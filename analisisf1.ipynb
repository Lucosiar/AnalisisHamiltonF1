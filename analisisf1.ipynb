{
 "cells": [
  {
   "cell_type": "code",
   "execution_count": 1,
   "id": "155d916c",
   "metadata": {
    "_cell_guid": "b1076dfc-b9ad-4769-8c92-a6c4dae69d19",
    "_uuid": "8f2839f25d086af736a60e9eeb907d3b93b6e0e5",
    "execution": {
     "iopub.execute_input": "2025-02-02T14:43:06.601936Z",
     "iopub.status.busy": "2025-02-02T14:43:06.601608Z",
     "iopub.status.idle": "2025-02-02T14:43:07.487023Z",
     "shell.execute_reply": "2025-02-02T14:43:07.486084Z"
    },
    "papermill": {
     "duration": 0.8966,
     "end_time": "2025-02-02T14:43:07.488896",
     "exception": false,
     "start_time": "2025-02-02T14:43:06.592296",
     "status": "completed"
    },
    "tags": []
   },
   "outputs": [],
   "source": [
    "#imports\n",
    "import pandas as pd"
   ]
  },
  {
   "cell_type": "code",
   "execution_count": 2,
   "id": "b33d5ebc",
   "metadata": {
    "execution": {
     "iopub.execute_input": "2025-02-02T14:43:07.503559Z",
     "iopub.status.busy": "2025-02-02T14:43:07.503070Z",
     "iopub.status.idle": "2025-02-02T14:43:08.335124Z",
     "shell.execute_reply": "2025-02-02T14:43:08.333996Z"
    },
    "jupyter": {
     "source_hidden": true
    },
    "papermill": {
     "duration": 0.841385,
     "end_time": "2025-02-02T14:43:08.337194",
     "exception": false,
     "start_time": "2025-02-02T14:43:07.495809",
     "status": "completed"
    },
    "tags": []
   },
   "outputs": [],
   "source": [
    "circuits_df = pd.read_csv('../input/formula-1-world-championship-1950-2020/circuits.csv')\n",
    "\n",
    "constructor_df = pd.read_csv('../input/formula-1-world-championship-1950-2020/constructors.csv')\n",
    "constructor_results_df = pd.read_csv('../input/formula-1-world-championship-1950-2020/constructor_results.csv')\n",
    "constructor_standings_df = pd.read_csv('../input/formula-1-world-championship-1950-2020/constructor_standings.csv')\n",
    "\n",
    "drivers_df = pd.read_csv('../input/formula-1-world-championship-1950-2020/drivers.csv')\n",
    "drivers_standings_df = pd.read_csv('../input/formula-1-world-championship-1950-2020/driver_standings.csv')\n",
    "\n",
    "lap_times_df = pd.read_csv('../input/formula-1-world-championship-1950-2020/lap_times.csv')\n",
    "\n",
    "qualifying_df = pd.read_csv('../input/formula-1-world-championship-1950-2020/qualifying.csv')\n",
    "\n",
    "races_df = pd.read_csv('../input/formula-1-world-championship-1950-2020/races.csv')\n",
    "result_df = pd.read_csv('../input/formula-1-world-championship-1950-2020/results.csv')\n",
    "\n",
    "season_df = pd.read_csv('../input/formula-1-world-championship-1950-2020/seasons.csv')\n",
    "\n",
    "sprint_results_df = pd.read_csv('../input/formula-1-world-championship-1950-2020/sprint_results.csv')\n",
    "\n",
    "status_df = pd.read_csv('../input/formula-1-world-championship-1950-2020/status.csv')"
   ]
  },
  {
   "cell_type": "markdown",
   "id": "bff60d19",
   "metadata": {
    "papermill": {
     "duration": 0.006692,
     "end_time": "2025-02-02T14:43:08.350562",
     "exception": false,
     "start_time": "2025-02-02T14:43:08.343870",
     "status": "completed"
    },
    "tags": []
   },
   "source": [
    "## Lewis Hamilton Records\n",
    "(Principios 2025 antes de comenzar la temporada del 2025)\n",
    "### El piloto con más puntos actualmente"
   ]
  },
  {
   "cell_type": "code",
   "execution_count": 3,
   "id": "4d3e96aa",
   "metadata": {
    "execution": {
     "iopub.execute_input": "2025-02-02T14:43:08.365441Z",
     "iopub.status.busy": "2025-02-02T14:43:08.364937Z",
     "iopub.status.idle": "2025-02-02T14:43:08.413283Z",
     "shell.execute_reply": "2025-02-02T14:43:08.412115Z"
    },
    "papermill": {
     "duration": 0.057703,
     "end_time": "2025-02-02T14:43:08.415072",
     "exception": false,
     "start_time": "2025-02-02T14:43:08.357369",
     "status": "completed"
    },
    "tags": []
   },
   "outputs": [
    {
     "name": "stdout",
     "output_type": "stream",
     "text": [
      " 🏁 El piloto con más puntos es Lewis Hamilton con un total de 4862.5 puntos. 🏁\n"
     ]
    }
   ],
   "source": [
    "drivers_standings_df['year'] = drivers_standings_df['raceId'].map(races_df.set_index('raceId')['year'])\n",
    "\n",
    "# Tomar solo el último registro de cada temporada para cada piloto (el acumulado final de la temporada)\n",
    "last_standing_per_season = drivers_standings_df.sort_values(by=['year', 'raceId']).drop_duplicates(subset=['year', 'driverId'], keep='last')\n",
    "\n",
    "# Sumar los puntos por piloto\n",
    "total_points = last_standing_per_season.groupby('driverId')['points'].sum().reset_index()\n",
    "\n",
    "# Unir con la tabla de pilotos para obtener nombres\n",
    "drivers_df = drivers_df[['driverId', 'forename', 'surname']]\n",
    "total_points = total_points.merge(drivers_df, on='driverId')\n",
    "\n",
    "# Ordenar de mayor a menor\n",
    "top_driver = total_points.sort_values(by='points', ascending=False).iloc[0]\n",
    "\n",
    "# Mostrar el resultado\n",
    "print(f\" 🏁 El piloto con más puntos es {top_driver['forename']} {top_driver['surname']} con un total de {top_driver['points']} puntos. 🏁\")"
   ]
  },
  {
   "cell_type": "markdown",
   "id": "f249f631",
   "metadata": {
    "papermill": {
     "duration": 0.006639,
     "end_time": "2025-02-02T14:43:08.428370",
     "exception": false,
     "start_time": "2025-02-02T14:43:08.421731",
     "status": "completed"
    },
    "tags": []
   },
   "source": [
    "### El piloto con más carreras ganadas"
   ]
  },
  {
   "cell_type": "code",
   "execution_count": 4,
   "id": "1c5879fd",
   "metadata": {
    "execution": {
     "iopub.execute_input": "2025-02-02T14:43:08.443018Z",
     "iopub.status.busy": "2025-02-02T14:43:08.442632Z",
     "iopub.status.idle": "2025-02-02T14:43:08.457851Z",
     "shell.execute_reply": "2025-02-02T14:43:08.456898Z"
    },
    "papermill": {
     "duration": 0.024079,
     "end_time": "2025-02-02T14:43:08.459416",
     "exception": false,
     "start_time": "2025-02-02T14:43:08.435337",
     "status": "completed"
    },
    "tags": []
   },
   "outputs": [
    {
     "name": "stdout",
     "output_type": "stream",
     "text": [
      " 🚀 El piloto con más victorias es Lewis Hamilton con 105 carreras ganadas. 🚀\n"
     ]
    }
   ],
   "source": [
    "# Filtrar solo las victorias\n",
    "wins_df = result_df[result_df['positionOrder'] == 1]\n",
    "\n",
    "# Contar las victorias por piloto\n",
    "wins_count = wins_df['driverId'].value_counts().reset_index()\n",
    "wins_count.columns = ['driverId', 'wins']\n",
    "\n",
    "# Unir con la tabla de pilotos para obtener nombres\n",
    "drivers_df = drivers_df[['driverId', 'forename', 'surname']]\n",
    "wins_count = wins_count.merge(drivers_df, on='driverId')\n",
    "\n",
    "# Ordenar por número de victorias\n",
    "top_winner = wins_count.sort_values(by='wins', ascending=False).iloc[0]\n",
    "\n",
    "# Mostrar el resultado\n",
    "print(f\" 🚀 El piloto con más victorias es {top_winner['forename']} {top_winner['surname']} con {top_winner['wins']} carreras ganadas. 🚀\")"
   ]
  },
  {
   "cell_type": "markdown",
   "id": "1e2185be",
   "metadata": {
    "papermill": {
     "duration": 0.006136,
     "end_time": "2025-02-02T14:43:08.472012",
     "exception": false,
     "start_time": "2025-02-02T14:43:08.465876",
     "status": "completed"
    },
    "tags": []
   },
   "source": [
    "### El piloto con más podios"
   ]
  },
  {
   "cell_type": "code",
   "execution_count": 5,
   "id": "eb94bd9f",
   "metadata": {
    "execution": {
     "iopub.execute_input": "2025-02-02T14:43:08.486322Z",
     "iopub.status.busy": "2025-02-02T14:43:08.485942Z",
     "iopub.status.idle": "2025-02-02T14:43:08.499126Z",
     "shell.execute_reply": "2025-02-02T14:43:08.497773Z"
    },
    "papermill": {
     "duration": 0.02248,
     "end_time": "2025-02-02T14:43:08.500979",
     "exception": false,
     "start_time": "2025-02-02T14:43:08.478499",
     "status": "completed"
    },
    "tags": []
   },
   "outputs": [
    {
     "name": "stdout",
     "output_type": "stream",
     "text": [
      " 🔥 El piloto con más podios es Lewis Hamilton con 202 podios. 🔥\n"
     ]
    }
   ],
   "source": [
    "# Filtrar solo las posiciones de podio (1.º, 2.º o 3.º lugar)\n",
    "podiums_df = result_df[result_df['positionOrder'].isin([1, 2, 3])]\n",
    "\n",
    "# Contar la cantidad de podios por piloto\n",
    "podium_count = podiums_df['driverId'].value_counts().reset_index()\n",
    "podium_count.columns = ['driverId', 'podiums']\n",
    "\n",
    "# Unir con la tabla de pilotos para obtener nombres\n",
    "drivers_df = drivers_df[['driverId', 'forename', 'surname']]\n",
    "podium_count = podium_count.merge(drivers_df, on='driverId')\n",
    "\n",
    "# Ordenar por número de podios\n",
    "top_podium_driver = podium_count.sort_values(by='podiums', ascending=False).iloc[0]\n",
    "\n",
    "# Mostrar el resultado\n",
    "print(f\" 🔥 El piloto con más podios es {top_podium_driver['forename']} {top_podium_driver['surname']} con {top_podium_driver['podiums']} podios. 🔥\")\n"
   ]
  },
  {
   "cell_type": "markdown",
   "id": "2ec621ad",
   "metadata": {
    "papermill": {
     "duration": 0.006066,
     "end_time": "2025-02-02T14:43:08.513585",
     "exception": false,
     "start_time": "2025-02-02T14:43:08.507519",
     "status": "completed"
    },
    "tags": []
   },
   "source": [
    "### El piloto con más pole positions\n",
    "Pole positions = Salir primero en una carrera"
   ]
  },
  {
   "cell_type": "code",
   "execution_count": 6,
   "id": "04409a4a",
   "metadata": {
    "execution": {
     "iopub.execute_input": "2025-02-02T14:43:08.527475Z",
     "iopub.status.busy": "2025-02-02T14:43:08.527091Z",
     "iopub.status.idle": "2025-02-02T14:43:08.540020Z",
     "shell.execute_reply": "2025-02-02T14:43:08.538777Z"
    },
    "papermill": {
     "duration": 0.02199,
     "end_time": "2025-02-02T14:43:08.541745",
     "exception": false,
     "start_time": "2025-02-02T14:43:08.519755",
     "status": "completed"
    },
    "tags": []
   },
   "outputs": [
    {
     "name": "stdout",
     "output_type": "stream",
     "text": [
      "🏆 El piloto con más pole positions es Lewis Hamilton con 107 pole positions. 🏆\n"
     ]
    }
   ],
   "source": [
    "pole_positions_df = qualifying_df[qualifying_df['position'] == 1]\n",
    "\n",
    "# Contar cuántas pole positions tiene cada piloto\n",
    "pole_count = pole_positions_df['driverId'].value_counts().reset_index()\n",
    "pole_count.columns = ['driverId', 'pole_positions']\n",
    "\n",
    "# Unir con la tabla de pilotos para obtener nombres\n",
    "drivers_df = drivers_df[['driverId', 'forename', 'surname']]\n",
    "pole_count = pole_count.merge(drivers_df, on='driverId')\n",
    "\n",
    "# Ordenar por número de poles\n",
    "top_pole_driver = pole_count.sort_values(by='pole_positions', ascending=False).iloc[0]\n",
    "\n",
    "# Mostrar el resultado\n",
    "print(f\"🏆 El piloto con más pole positions es {top_pole_driver['forename']} {top_pole_driver['surname']} con {top_pole_driver['pole_positions']} pole positions. 🏆\")"
   ]
  },
  {
   "cell_type": "markdown",
   "id": "9f39a7b9",
   "metadata": {
    "papermill": {
     "duration": 0.006018,
     "end_time": "2025-02-02T14:43:08.554492",
     "exception": false,
     "start_time": "2025-02-02T14:43:08.548474",
     "status": "completed"
    },
    "tags": []
   },
   "source": [
    "### El piloto con más carreras lideradas \n",
    "(al menos una vuelta liderada en carrera)"
   ]
  },
  {
   "cell_type": "code",
   "execution_count": 7,
   "id": "074b33f1",
   "metadata": {
    "execution": {
     "iopub.execute_input": "2025-02-02T14:43:08.568405Z",
     "iopub.status.busy": "2025-02-02T14:43:08.567980Z",
     "iopub.status.idle": "2025-02-02T14:43:08.584696Z",
     "shell.execute_reply": "2025-02-02T14:43:08.583285Z"
    },
    "papermill": {
     "duration": 0.025733,
     "end_time": "2025-02-02T14:43:08.586422",
     "exception": false,
     "start_time": "2025-02-02T14:43:08.560689",
     "status": "completed"
    },
    "tags": []
   },
   "outputs": [
    {
     "name": "stdout",
     "output_type": "stream",
     "text": [
      "🔝 El piloto con más carreras lideradas es Lewis Hamilton con 190 carreras lideradas. 🔝\n"
     ]
    }
   ],
   "source": [
    "# Filtrar vueltas donde un piloto estuvo en P1\n",
    "laps_led = lap_times_df[lap_times_df['position'] == 1]\n",
    "\n",
    "# Contar en cuántas carreras diferentes lideró cada piloto (cada raceId único cuenta una vez)\n",
    "races_led_count = laps_led.groupby('driverId')['raceId'].nunique().reset_index()\n",
    "races_led_count.columns = ['driverId', 'races_led']\n",
    "\n",
    "# Unir con la tabla de pilotos para obtener nombres\n",
    "races_led_count = races_led_count.merge(drivers_df[['driverId', 'forename', 'surname']], on='driverId')\n",
    "\n",
    "# Ordenar de mayor a menor\n",
    "races_led_count = races_led_count.sort_values(by='races_led', ascending=False)\n",
    "\n",
    "# Mostrar el piloto con más carreras lideradas\n",
    "top_driver = races_led_count.iloc[0]\n",
    "print(f\"🔝 El piloto con más carreras lideradas es {top_driver['forename']} {top_driver['surname']} con {top_driver['races_led']} carreras lideradas. 🔝\")\n"
   ]
  },
  {
   "cell_type": "markdown",
   "id": "5c70e4c0",
   "metadata": {
    "papermill": {
     "duration": 0.006175,
     "end_time": "2025-02-02T14:43:08.599169",
     "exception": false,
     "start_time": "2025-02-02T14:43:08.592994",
     "status": "completed"
    },
    "tags": []
   },
   "source": [
    "### El piloto con más vueltas lideradas\n",
    "Total de vueltas en P1"
   ]
  },
  {
   "cell_type": "code",
   "execution_count": 8,
   "id": "821c1d2a",
   "metadata": {
    "execution": {
     "iopub.execute_input": "2025-02-02T14:43:08.613157Z",
     "iopub.status.busy": "2025-02-02T14:43:08.612767Z",
     "iopub.status.idle": "2025-02-02T14:43:08.625509Z",
     "shell.execute_reply": "2025-02-02T14:43:08.624183Z"
    },
    "papermill": {
     "duration": 0.021652,
     "end_time": "2025-02-02T14:43:08.627222",
     "exception": false,
     "start_time": "2025-02-02T14:43:08.605570",
     "status": "completed"
    },
    "tags": []
   },
   "outputs": [
    {
     "name": "stdout",
     "output_type": "stream",
     "text": [
      "🎯 El piloto con más vueltas lideradas es Lewis Hamilton con 5487 vueltas lideradas. 🎯\n"
     ]
    }
   ],
   "source": [
    "# Contar cuántas vueltas lideró cada piloto\n",
    "laps_led_count = laps_led['driverId'].value_counts().reset_index()\n",
    "laps_led_count.columns = ['driverId', 'laps_led']\n",
    "\n",
    "# Unir con la tabla de pilotos\n",
    "laps_led_count = laps_led_count.merge(drivers_df[['driverId', 'forename', 'surname']], on='driverId')\n",
    "\n",
    "# Ordenar de mayor a menor\n",
    "laps_led_count = laps_led_count.sort_values(by='laps_led', ascending=False)\n",
    "\n",
    "# Mostrar el piloto con más vueltas lideradas\n",
    "top_driver = laps_led_count.iloc[0]\n",
    "print(f\"🎯 El piloto con más vueltas lideradas es {top_driver['forename']} {top_driver['surname']} con {top_driver['laps_led']} vueltas lideradas. 🎯\")"
   ]
  },
  {
   "cell_type": "markdown",
   "id": "719adf50",
   "metadata": {
    "papermill": {
     "duration": 0.006441,
     "end_time": "2025-02-02T14:43:08.640444",
     "exception": false,
     "start_time": "2025-02-02T14:43:08.634003",
     "status": "completed"
    },
    "tags": []
   },
   "source": [
    "### El piloto con más campeonatos mundiales"
   ]
  },
  {
   "cell_type": "code",
   "execution_count": 9,
   "id": "e70557a6",
   "metadata": {
    "execution": {
     "iopub.execute_input": "2025-02-02T14:43:08.654882Z",
     "iopub.status.busy": "2025-02-02T14:43:08.654517Z",
     "iopub.status.idle": "2025-02-02T14:43:08.673517Z",
     "shell.execute_reply": "2025-02-02T14:43:08.672234Z"
    },
    "papermill": {
     "duration": 0.028428,
     "end_time": "2025-02-02T14:43:08.675283",
     "exception": false,
     "start_time": "2025-02-02T14:43:08.646855",
     "status": "completed"
    },
    "tags": []
   },
   "outputs": [
    {
     "name": "stdout",
     "output_type": "stream",
     "text": [
      "🏁 Lewis Hamilton tiene 7 títulos. 🏁\n",
      "🏁 Michael Schumacher tiene 7 títulos. 🏁\n"
     ]
    }
   ],
   "source": [
    "# Obtener la última carrera de cada temporada\n",
    "last_race_per_season = races_df.groupby('year')['raceId'].max().reset_index()\n",
    "\n",
    "# Filtrar la tabla de standings para obtener SOLO los campeones de cada temporada\n",
    "champions = drivers_standings_df[\n",
    "    (drivers_standings_df['position'] == 1) & \n",
    "    (drivers_standings_df['raceId'].isin(last_race_per_season['raceId']))\n",
    "]\n",
    "\n",
    "# Contar cuántos títulos tiene cada piloto\n",
    "championships_count = champions['driverId'].value_counts().reset_index()\n",
    "championships_count.columns = ['driverId', 'titles']\n",
    "\n",
    "# Unir con la tabla de pilotos para obtener nombres\n",
    "championships_count = championships_count.merge(drivers_df[['driverId', 'forename', 'surname']], on='driverId')\n",
    "\n",
    "# Ordenar de mayor a menor\n",
    "championships_count = championships_count.sort_values(by='titles', ascending=False)\n",
    "\n",
    "# Obtener el máximo número de títulos\n",
    "max_titles = championships_count['titles'].max()\n",
    "\n",
    "# Filtrar todos los pilotos que tengan ese número de títulos\n",
    "top_drivers = championships_count[championships_count['titles'] == max_titles]\n",
    "\n",
    "# Mostrar los pilotos con más títulos\n",
    "for _, row in top_drivers.iterrows():\n",
    "    print(f\"🏁 {row['forename']} {row['surname']} tiene {row['titles']} títulos. 🏁\")\n"
   ]
  },
  {
   "cell_type": "markdown",
   "id": "b3122254",
   "metadata": {
    "papermill": {
     "duration": 0.00619,
     "end_time": "2025-02-02T14:43:08.688335",
     "exception": false,
     "start_time": "2025-02-02T14:43:08.682145",
     "status": "completed"
    },
    "tags": []
   },
   "source": [
    "### El piloto con mas victorias en diferentes temporadas"
   ]
  },
  {
   "cell_type": "code",
   "execution_count": 10,
   "id": "d67e7295",
   "metadata": {
    "execution": {
     "iopub.execute_input": "2025-02-02T14:43:08.703367Z",
     "iopub.status.busy": "2025-02-02T14:43:08.702974Z",
     "iopub.status.idle": "2025-02-02T14:43:08.720029Z",
     "shell.execute_reply": "2025-02-02T14:43:08.718934Z"
    },
    "papermill": {
     "duration": 0.02646,
     "end_time": "2025-02-02T14:43:08.721697",
     "exception": false,
     "start_time": "2025-02-02T14:43:08.695237",
     "status": "completed"
    },
    "tags": []
   },
   "outputs": [
    {
     "name": "stdout",
     "output_type": "stream",
     "text": [
      "🪄 Lewis Hamilton ha ganado en 16 temporadas diferentes. 🪄\n"
     ]
    }
   ],
   "source": [
    "# Filtrar las carreras ganadas (positionOrder == 1 indica el ganador de la carrera)\n",
    "winners = result_df[result_df['positionOrder'] == 1]\n",
    "\n",
    "# Unir con la tabla de carreras para obtener el año de cada carrera ganada\n",
    "winners = winners.merge(races_df[['raceId', 'year']], on='raceId')\n",
    "\n",
    "# Contar en cuántas temporadas diferentes ganó al menos una carrera cada piloto\n",
    "seasons_won = winners.groupby('driverId')['year'].nunique().reset_index()\n",
    "seasons_won.columns = ['driverId', 'seasons_won']\n",
    "\n",
    "# Unir con la tabla de pilotos para obtener nombres\n",
    "seasons_won = seasons_won.merge(drivers_df[['driverId', 'forename', 'surname']], on='driverId')\n",
    "\n",
    "# Ordenar de mayor a menor\n",
    "seasons_won = seasons_won.sort_values(by='seasons_won', ascending=False)\n",
    "\n",
    "# Obtener el número máximo de temporadas ganadas\n",
    "max_seasons = seasons_won['seasons_won'].max()\n",
    "\n",
    "# Filtrar todos los pilotos que tengan ese número de temporadas ganadas\n",
    "top_drivers = seasons_won[seasons_won['seasons_won'] == max_seasons]\n",
    "\n",
    "# Mostrar los pilotos con más temporadas ganando carreras\n",
    "for _, row in top_drivers.iterrows():\n",
    "    print(f\"🪄 {row['forename']} {row['surname']} ha ganado en {row['seasons_won']} temporadas diferentes. 🪄\")\n"
   ]
  },
  {
   "cell_type": "markdown",
   "id": "f4ce5da2",
   "metadata": {
    "papermill": {
     "duration": 0.006341,
     "end_time": "2025-02-02T14:43:08.734779",
     "exception": false,
     "start_time": "2025-02-02T14:43:08.728438",
     "status": "completed"
    },
    "tags": []
   },
   "source": [
    "### El piloto con más victorias en x circuito "
   ]
  },
  {
   "cell_type": "code",
   "execution_count": 11,
   "id": "706b2f26",
   "metadata": {
    "execution": {
     "iopub.execute_input": "2025-02-02T14:43:08.749279Z",
     "iopub.status.busy": "2025-02-02T14:43:08.748899Z",
     "iopub.status.idle": "2025-02-02T14:43:08.769469Z",
     "shell.execute_reply": "2025-02-02T14:43:08.768130Z"
    },
    "papermill": {
     "duration": 0.029757,
     "end_time": "2025-02-02T14:43:08.771223",
     "exception": false,
     "start_time": "2025-02-02T14:43:08.741466",
     "status": "completed"
    },
    "tags": []
   },
   "outputs": [
    {
     "name": "stdout",
     "output_type": "stream",
     "text": [
      "🥇 Lewis Hamilton ha ganado 9 veces en Silverstone Circuit. 🥇\n"
     ]
    }
   ],
   "source": [
    "# Filtrar las carreras ganadas (positionOrder == 1 indica el ganador de la carrera)\n",
    "winners = result_df[result_df['positionOrder'] == 1]\n",
    "\n",
    "# Unir con la tabla de carreras para obtener el circuito de cada carrera ganada\n",
    "winners = winners.merge(races_df[['raceId', 'circuitId']], on='raceId')\n",
    "\n",
    "# Contar cuántas veces cada piloto ha ganado en cada circuito\n",
    "circuit_wins = winners.groupby(['driverId', 'circuitId']).size().reset_index(name='wins')\n",
    "\n",
    "# Encontrar el máximo número de victorias en un solo circuito\n",
    "max_wins = circuit_wins['wins'].max()\n",
    "\n",
    "# Filtrar todos los pilotos que tengan ese número de victorias en algún circuito\n",
    "top_circuit_winners = circuit_wins[circuit_wins['wins'] == max_wins]\n",
    "\n",
    "# Unir con la tabla de pilotos para obtener nombres\n",
    "top_circuit_winners = top_circuit_winners.merge(drivers_df[['driverId', 'forename', 'surname']], on='driverId')\n",
    "\n",
    "# Unir con la tabla de circuitos para obtener el nombre del circuito\n",
    "top_circuit_winners = top_circuit_winners.merge(circuits_df[['circuitId', 'name']], on='circuitId')\n",
    "\n",
    "# Mostrar los pilotos con más victorias en un mismo circuito\n",
    "for _, row in top_circuit_winners.iterrows():\n",
    "    print(f\"🥇 {row['forename']} {row['surname']} ha ganado {row['wins']} veces en {row['name']}. 🥇\")\n"
   ]
  },
  {
   "cell_type": "markdown",
   "id": "dd95ea86",
   "metadata": {
    "papermill": {
     "duration": 0.006489,
     "end_time": "2025-02-02T14:43:08.784719",
     "exception": false,
     "start_time": "2025-02-02T14:43:08.778230",
     "status": "completed"
    },
    "tags": []
   },
   "source": [
    "### El piloto con más victorias como rookie"
   ]
  },
  {
   "cell_type": "code",
   "execution_count": 12,
   "id": "9ca7878f",
   "metadata": {
    "execution": {
     "iopub.execute_input": "2025-02-02T14:43:08.799825Z",
     "iopub.status.busy": "2025-02-02T14:43:08.799421Z",
     "iopub.status.idle": "2025-02-02T14:43:08.824968Z",
     "shell.execute_reply": "2025-02-02T14:43:08.823763Z"
    },
    "papermill": {
     "duration": 0.034906,
     "end_time": "2025-02-02T14:43:08.826629",
     "exception": false,
     "start_time": "2025-02-02T14:43:08.791723",
     "status": "completed"
    },
    "tags": []
   },
   "outputs": [
    {
     "name": "stdout",
     "output_type": "stream",
     "text": [
      "🎖️ Lewis Hamilton ganó 4 carreras en su temporada de debut (1). 🎖️\n",
      "🎖️ Jacques Villeneuve ganó 4 carreras en su temporada de debut (35). 🎖️\n"
     ]
    }
   ],
   "source": [
    "# Obtener la primera temporada de cada piloto (año de su primera carrera)\n",
    "first_season = races_df[['raceId', 'year']].merge(result_df[['raceId', 'driverId']], on='raceId')\n",
    "first_season = first_season.groupby('driverId')['year'].min().reset_index()\n",
    "first_season.columns = ['driverId', 'rookie_year']\n",
    "\n",
    "# Filtrar las victorias (positionOrder == 1) y unir con la temporada de debut\n",
    "rookie_wins = result_df[result_df['positionOrder'] == 1].merge(races_df[['raceId', 'year']], on='raceId')\n",
    "rookie_wins = rookie_wins.merge(first_season, on='driverId')\n",
    "\n",
    "# Filtrar solo las victorias en la temporada de debut\n",
    "rookie_wins = rookie_wins[rookie_wins['year'] == rookie_wins['rookie_year']]\n",
    "\n",
    "# Contar las victorias de cada piloto en su año de debut\n",
    "rookie_win_count = rookie_wins['driverId'].value_counts().reset_index()\n",
    "rookie_win_count.columns = ['driverId', 'rookie_wins']\n",
    "\n",
    "# Unir con la tabla de pilotos para obtener nombres\n",
    "rookie_win_count = rookie_win_count.merge(drivers_df[['driverId', 'forename', 'surname']], on='driverId')\n",
    "\n",
    "# Ordenar de mayor a menor\n",
    "rookie_win_count = rookie_win_count.sort_values(by='rookie_wins', ascending=False)\n",
    "\n",
    "# Obtener el número máximo de victorias de un rookie\n",
    "max_rookie_wins = rookie_win_count['rookie_wins'].max()\n",
    "\n",
    "# Filtrar todos los pilotos que lograron esa cantidad de victorias\n",
    "top_rookies = rookie_win_count[rookie_win_count['rookie_wins'] == max_rookie_wins]\n",
    "\n",
    "# Mostrar los rookies con más victorias\n",
    "for _, row in top_rookies.iterrows():\n",
    "    print(f\"🎖️ {row['forename']} {row['surname']} ganó {row['rookie_wins']} carreras en su temporada de debut ({row['driverId']}). 🎖️\")\n"
   ]
  },
  {
   "cell_type": "markdown",
   "id": "0d1a36fb",
   "metadata": {
    "papermill": {
     "duration": 0.006366,
     "end_time": "2025-02-02T14:43:08.839957",
     "exception": false,
     "start_time": "2025-02-02T14:43:08.833591",
     "status": "completed"
    },
    "tags": []
   },
   "source": [
    "### El piloto con más pole position como rookie"
   ]
  },
  {
   "cell_type": "code",
   "execution_count": 13,
   "id": "92e66430",
   "metadata": {
    "execution": {
     "iopub.execute_input": "2025-02-02T14:43:08.855529Z",
     "iopub.status.busy": "2025-02-02T14:43:08.855191Z",
     "iopub.status.idle": "2025-02-02T14:43:08.879732Z",
     "shell.execute_reply": "2025-02-02T14:43:08.878642Z"
    },
    "papermill": {
     "duration": 0.034246,
     "end_time": "2025-02-02T14:43:08.881492",
     "exception": false,
     "start_time": "2025-02-02T14:43:08.847246",
     "status": "completed"
    },
    "tags": []
   },
   "outputs": [
    {
     "name": "stdout",
     "output_type": "stream",
     "text": [
      "🚀 Lewis Hamilton logró 5 pole positions en su temporada de debut. 🚀\n"
     ]
    }
   ],
   "source": [
    "# Obtener la primera temporada de cada piloto (año de su primera carrera)\n",
    "first_season = races_df[['raceId', 'year']].merge(result_df[['raceId', 'driverId']], on='raceId')\n",
    "first_season = first_season.groupby('driverId')['year'].min().reset_index()\n",
    "first_season.columns = ['driverId', 'rookie_year']\n",
    "\n",
    "# Filtrar las poles (posición 1 en clasificación)\n",
    "rookie_poles = qualifying_df[qualifying_df['position'] == 1]\n",
    "\n",
    "# Unir con la tabla de carreras para obtener el año de la pole\n",
    "rookie_poles = rookie_poles.merge(races_df[['raceId', 'year']], on='raceId')\n",
    "\n",
    "# Unir con la primera temporada de cada piloto\n",
    "rookie_poles = rookie_poles.merge(first_season, on='driverId')\n",
    "\n",
    "# Filtrar solo las poles en la temporada de debut\n",
    "rookie_poles = rookie_poles[rookie_poles['year'] == rookie_poles['rookie_year']]\n",
    "\n",
    "# Contar las poles de cada piloto en su año de debut\n",
    "rookie_pole_count = rookie_poles['driverId'].value_counts().reset_index()\n",
    "rookie_pole_count.columns = ['driverId', 'rookie_poles']\n",
    "\n",
    "# Unir con la tabla de pilotos para obtener nombres\n",
    "rookie_pole_count = rookie_pole_count.merge(drivers_df[['driverId', 'forename', 'surname']], on='driverId')\n",
    "\n",
    "# Ordenar de mayor a menor\n",
    "rookie_pole_count = rookie_pole_count.sort_values(by='rookie_poles', ascending=False)\n",
    "\n",
    "# Obtener el número máximo de poles de un rookie\n",
    "max_rookie_poles = rookie_pole_count['rookie_poles'].max()\n",
    "\n",
    "# Filtrar todos los pilotos que lograron esa cantidad de poles\n",
    "top_rookies = rookie_pole_count[rookie_pole_count['rookie_poles'] == max_rookie_poles]\n",
    "\n",
    "# Mostrar los rookies con más pole positions\n",
    "for _, row in top_rookies.iterrows():\n",
    "    print(f\"🚀 {row['forename']} {row['surname']} logró {row['rookie_poles']} pole positions en su temporada de debut. 🚀\")\n"
   ]
  },
  {
   "cell_type": "markdown",
   "id": "e3fd873f",
   "metadata": {
    "papermill": {
     "duration": 0.006588,
     "end_time": "2025-02-02T14:43:08.895234",
     "exception": false,
     "start_time": "2025-02-02T14:43:08.888646",
     "status": "completed"
    },
    "tags": []
   },
   "source": [
    "### El piloto con más premios con un mismo constructor"
   ]
  },
  {
   "cell_type": "code",
   "execution_count": 14,
   "id": "2c4f40cb",
   "metadata": {
    "execution": {
     "iopub.execute_input": "2025-02-02T14:43:08.910298Z",
     "iopub.status.busy": "2025-02-02T14:43:08.909898Z",
     "iopub.status.idle": "2025-02-02T14:43:08.929796Z",
     "shell.execute_reply": "2025-02-02T14:43:08.928477Z"
    },
    "papermill": {
     "duration": 0.029235,
     "end_time": "2025-02-02T14:43:08.931461",
     "exception": false,
     "start_time": "2025-02-02T14:43:08.902226",
     "status": "completed"
    },
    "tags": []
   },
   "outputs": [
    {
     "name": "stdout",
     "output_type": "stream",
     "text": [
      "🏎️ Más Grandes Premios con un mismo constructor: Lewis Hamilton con 246 carreras en Mercedes. 🏎️\n"
     ]
    }
   ],
   "source": [
    "# Crear una nueva columna con el nombre completo del piloto\n",
    "drivers_df['fullName'] = drivers_df['forename'] + ' ' + drivers_df['surname']\n",
    "\n",
    "# 1. Más Grandes Premios con un mismo constructor\n",
    "# Agrupar por piloto y constructor en result_df y contar las carreras\n",
    "driver_constructor_grands_prix = result_df.groupby(['driverId', 'constructorId'])['raceId'].nunique().reset_index()\n",
    "\n",
    "# Unir con la tabla de drivers para obtener el nombre completo del piloto\n",
    "driver_constructor_grands_prix = driver_constructor_grands_prix.merge(drivers_df[['driverId', 'fullName']], on='driverId', how='left')\n",
    "\n",
    "# Unir con la tabla de constructores para obtener el nombre del constructor\n",
    "driver_constructor_grands_prix = driver_constructor_grands_prix.merge(constructor_df[['constructorId', 'name']], on='constructorId', how='left')\n",
    "\n",
    "# Encontramos el piloto con más Grandes Premios con un mismo constructor\n",
    "max_grands_prix_constructor = driver_constructor_grands_prix.loc[driver_constructor_grands_prix['raceId'].idxmax()]\n",
    "\n",
    "# Imprimir el resultado con los nombres de piloto y constructor\n",
    "print(f\"🏎️ Más Grandes Premios con un mismo constructor: {max_grands_prix_constructor['fullName']} con {max_grands_prix_constructor['raceId']} carreras en {max_grands_prix_constructor['name']}. 🏎️\")\n"
   ]
  },
  {
   "cell_type": "markdown",
   "id": "c04eadc1",
   "metadata": {
    "papermill": {
     "duration": 0.006715,
     "end_time": "2025-02-02T14:43:08.945194",
     "exception": false,
     "start_time": "2025-02-02T14:43:08.938479",
     "status": "completed"
    },
    "tags": []
   },
   "source": [
    "### El piloto con más carreras consecutivas finalizadas con puntos"
   ]
  },
  {
   "cell_type": "code",
   "execution_count": 15,
   "id": "567caad4",
   "metadata": {
    "execution": {
     "iopub.execute_input": "2025-02-02T14:43:08.960127Z",
     "iopub.status.busy": "2025-02-02T14:43:08.959772Z",
     "iopub.status.idle": "2025-02-02T14:43:08.982170Z",
     "shell.execute_reply": "2025-02-02T14:43:08.980649Z"
    },
    "papermill": {
     "duration": 0.031822,
     "end_time": "2025-02-02T14:43:08.983853",
     "exception": false,
     "start_time": "2025-02-02T14:43:08.952031",
     "status": "completed"
    },
    "tags": []
   },
   "outputs": [
    {
     "name": "stdout",
     "output_type": "stream",
     "text": [
      "🏁 El piloto con más carreras consecutivas finalizadas con puntos es Lewis Hamilton con 48 carreras consecutivas. 🏁\n"
     ]
    }
   ],
   "source": [
    "# Filtrar carreras donde el piloto obtuvo puntos (por ejemplo, posición 1-10)\n",
    "result_with_points = result_df[result_df['positionOrder'] <= 10]\n",
    "\n",
    "# Ordenar por piloto y raceId para asegurar que las carreras están en orden cronológico\n",
    "result_with_points = result_with_points.sort_values(by=['driverId', 'raceId'])\n",
    "\n",
    "# Crear una columna de \"carrera consecutiva\" para cada piloto\n",
    "result_with_points['consecutive'] = result_with_points.groupby('driverId')['raceId'].diff().ne(1).cumsum()\n",
    "\n",
    "# Contamos las carreras consecutivas con puntos para cada piloto\n",
    "consecutive_points = result_with_points.groupby(['driverId', 'consecutive']).size().reset_index(name='consecutive_points')\n",
    "\n",
    "# Encontrar el piloto con más carreras consecutivas con puntos\n",
    "max_consecutive_points = consecutive_points.loc[consecutive_points['consecutive_points'].idxmax()]\n",
    "\n",
    "# Obtener el nombre del piloto\n",
    "driver_name = drivers_df.loc[drivers_df['driverId'] == max_consecutive_points['driverId'], 'fullName'].values[0]\n",
    "\n",
    "# Imprimir el resultado\n",
    "print(f\"🏁 El piloto con más carreras consecutivas finalizadas con puntos es {driver_name} con {max_consecutive_points['consecutive_points']} carreras consecutivas. 🏁\")\n"
   ]
  },
  {
   "cell_type": "markdown",
   "id": "70692a0c",
   "metadata": {
    "papermill": {
     "duration": 0.006722,
     "end_time": "2025-02-02T14:43:08.997982",
     "exception": false,
     "start_time": "2025-02-02T14:43:08.991260",
     "status": "completed"
    },
    "tags": []
   },
   "source": [
    "### El piloto con más victorias en diferentes circuitos "
   ]
  },
  {
   "cell_type": "code",
   "execution_count": 16,
   "id": "583fd741",
   "metadata": {
    "execution": {
     "iopub.execute_input": "2025-02-02T14:43:09.013491Z",
     "iopub.status.busy": "2025-02-02T14:43:09.013151Z",
     "iopub.status.idle": "2025-02-02T14:43:09.029833Z",
     "shell.execute_reply": "2025-02-02T14:43:09.028722Z"
    },
    "papermill": {
     "duration": 0.026689,
     "end_time": "2025-02-02T14:43:09.031687",
     "exception": false,
     "start_time": "2025-02-02T14:43:09.004998",
     "status": "completed"
    },
    "tags": []
   },
   "outputs": [
    {
     "name": "stdout",
     "output_type": "stream",
     "text": [
      "🚀 El piloto con más victorias en diferentes circuitos es Lewis Hamilton con 31 victorias. 🚀\n"
     ]
    }
   ],
   "source": [
    "# Filtrar las victorias (posición 1)\n",
    "victories = result_df[result_df['positionOrder'] == 1]\n",
    "\n",
    "# Unir con races_df para obtener el circuito (circuitId) de cada carrera\n",
    "victories = victories.merge(races_df[['raceId', 'circuitId']], on='raceId', how='left')\n",
    "\n",
    "# Agrupar por piloto y circuito para contar las victorias en diferentes circuitos\n",
    "victories_by_circuit = victories.groupby(['driverId', 'circuitId']).size().reset_index(name='victories')\n",
    "\n",
    "# Contar las victorias por piloto en circuitos diferentes (sin contar repeticiones en el mismo circuito)\n",
    "driver_victories_in_circuits = victories_by_circuit.groupby('driverId')['circuitId'].nunique().reset_index(name='unique_victories')\n",
    "\n",
    "# Encontrar el piloto con más victorias en circuitos diferentes\n",
    "max_victories = driver_victories_in_circuits.loc[driver_victories_in_circuits['unique_victories'].idxmax()]\n",
    "\n",
    "# Obtener el nombre del piloto\n",
    "driver_name = drivers_df.loc[drivers_df['driverId'] == max_victories['driverId'], 'forename'].values[0] + ' ' + drivers_df.loc[drivers_df['driverId'] == max_victories['driverId'], 'surname'].values[0]\n",
    "\n",
    "# Imprimir el resultado\n",
    "print(f\"🚀 El piloto con más victorias en diferentes circuitos es {driver_name} con {max_victories['unique_victories']} victorias. 🚀\")\n"
   ]
  },
  {
   "cell_type": "markdown",
   "id": "ac040329",
   "metadata": {
    "papermill": {
     "duration": 0.006733,
     "end_time": "2025-02-02T14:43:09.045534",
     "exception": false,
     "start_time": "2025-02-02T14:43:09.038801",
     "status": "completed"
    },
    "tags": []
   },
   "source": [
    "### El piloto con más podios en diferentes circuitos"
   ]
  },
  {
   "cell_type": "code",
   "execution_count": 17,
   "id": "89e5b741",
   "metadata": {
    "execution": {
     "iopub.execute_input": "2025-02-02T14:43:09.060926Z",
     "iopub.status.busy": "2025-02-02T14:43:09.060528Z",
     "iopub.status.idle": "2025-02-02T14:43:09.078760Z",
     "shell.execute_reply": "2025-02-02T14:43:09.077654Z"
    },
    "papermill": {
     "duration": 0.027933,
     "end_time": "2025-02-02T14:43:09.080487",
     "exception": false,
     "start_time": "2025-02-02T14:43:09.052554",
     "status": "completed"
    },
    "tags": []
   },
   "outputs": [
    {
     "name": "stdout",
     "output_type": "stream",
     "text": [
      "💥 El piloto con más podios en diferentes circuitos es Lewis Hamilton con 36 podios. 💥\n"
     ]
    }
   ],
   "source": [
    "# Filtrar los resultados de los podios (posiciones 1, 2, 3)\n",
    "podiums = result_df[result_df['positionOrder'].isin([1, 2, 3])]\n",
    "\n",
    "# Unir con races_df para obtener el circuito (circuitId) de cada carrera\n",
    "podiums = podiums.merge(races_df[['raceId', 'circuitId']], on='raceId', how='left')\n",
    "\n",
    "# Agrupar por piloto y circuito para contar los podios en diferentes circuitos\n",
    "podiums_by_circuit = podiums.groupby(['driverId', 'circuitId']).size().reset_index(name='podiums')\n",
    "\n",
    "# Contar los podios por piloto en circuitos diferentes (sin contar repeticiones en el mismo circuito)\n",
    "driver_podiums_in_circuits = podiums_by_circuit.groupby('driverId')['circuitId'].nunique().reset_index(name='unique_podiums')\n",
    "\n",
    "# Encontrar el piloto con más podios en circuitos diferentes\n",
    "max_podiums = driver_podiums_in_circuits.loc[driver_podiums_in_circuits['unique_podiums'].idxmax()]\n",
    "\n",
    "# Obtener el nombre del piloto\n",
    "driver_name = drivers_df.loc[drivers_df['driverId'] == max_podiums['driverId'], 'forename'].values[0] + ' ' + drivers_df.loc[drivers_df['driverId'] == max_podiums['driverId'], 'surname'].values[0]\n",
    "\n",
    "# Imprimir el resultado\n",
    "print(f\"💥 El piloto con más podios en diferentes circuitos es {driver_name} con {max_podiums['unique_podiums']} podios. 💥\")\n"
   ]
  },
  {
   "cell_type": "markdown",
   "id": "4eb6c6d6",
   "metadata": {
    "papermill": {
     "duration": 0.006978,
     "end_time": "2025-02-02T14:43:09.094700",
     "exception": false,
     "start_time": "2025-02-02T14:43:09.087722",
     "status": "completed"
    },
    "tags": []
   },
   "source": [
    "## Resumen\n",
    "Hamilton es el piloto actual con más records. Tras 14 años consecutivos con Mercedes, abre una nueva era con Ferrari. ¿Podrá seguir batiendo records?\n",
    "Lewis Hamilton es el piloto con más record en el mundo de la formula 1. A día de hoy es considerado uno de los mejores pilotos. Comenzo en la formula 1 con McLaren en 2007 con 22 años. En 2013 firmo un contrato con Mercedes y estarían juntos hasta 2024 que decidio cumplir su mayor sueño. Poder correr con Ferrari.\n",
    "A lo largo de su carrera cumplió todos los records que acabamos de ver. Seguramente tenga más record, pero necesitaríamos más información.\n",
    "\n",
    "1. 🏁 El piloto con más puntos es Lewis Hamilton con un total de 4862.5 puntos. 🏁\n",
    "2. 🚀 El piloto con más victorias es Lewis Hamilton con 105 carreras ganadas. 🚀\n",
    "3. 🔥 El piloto con más podios es Lewis Hamilton con 202 podios. 🔥\n",
    "4. 🏆 El piloto con más pole positions es Lewis Hamilton con 107 pole positions. 🏆\n",
    "6. 🔝 El piloto con más carreras lideradas es Lewis Hamilton con 190 carreras lideradas. 🔝\n",
    "7. 🎯 El piloto con más vueltas lideradas es Lewis Hamilton con 5487 vueltas lideradas. 🎯\n",
    "8. 🏁 Lewis Hamilton y Michael Schumacher tienen ambos 7 títulos mundiales. ¿Será capaz Hamilton de batir el record en su nueva etapa con Ferrari? 🏁\n",
    "9. 🪄 Lewis Hamilton ha ganado en 16 temporadas diferentes. 🪄\n",
    "10. 🥇 Lewis Hamilton ha ganado 9 veces en Silverstone Circuit. 🥇\n",
    "11. 🎖️ Lewis Hamilton y Jacques Villeneuve comparten el record de ganar 4 carreras en su temporada de debut 🎖️\n",
    "12. 🚀 Lewis Hamilton logró 5 pole positions en su temporada de debut. 🚀\n",
    "13. 🏎️ Más Grandes Premios con un mismo constructor: Lewis Hamilton con 246 carreras en Mercedes. 🏎️\n",
    "14. 🏁 El piloto con más carreras consecutivas finalizadas con puntos es Lewis Hamilton con 48 carreras consecutivas. 🏁\n",
    "15. 🚀 El piloto con más victorias en diferentes circuitos es Lewis Hamilton con 31 victorias. 🚀\n",
    "16. 💥 El piloto con más podios en diferentes circuitos es Lewis Hamilton con 36 podios. 💥\n"
   ]
  }
 ],
 "metadata": {
  "kaggle": {
   "accelerator": "none",
   "dataSources": [
    {
     "datasetId": 468218,
     "sourceId": 10606304,
     "sourceType": "datasetVersion"
    }
   ],
   "dockerImageVersionId": 30839,
   "isGpuEnabled": false,
   "isInternetEnabled": true,
   "language": "python",
   "sourceType": "notebook"
  },
  "kernelspec": {
   "display_name": "Python 3",
   "language": "python",
   "name": "python3"
  },
  "language_info": {
   "codemirror_mode": {
    "name": "ipython",
    "version": 3
   },
   "file_extension": ".py",
   "mimetype": "text/x-python",
   "name": "python",
   "nbconvert_exporter": "python",
   "pygments_lexer": "ipython3",
   "version": "3.10.12"
  },
  "papermill": {
   "default_parameters": {},
   "duration": 5.863318,
   "end_time": "2025-02-02T14:43:09.723123",
   "environment_variables": {},
   "exception": null,
   "input_path": "__notebook__.ipynb",
   "output_path": "__notebook__.ipynb",
   "parameters": {},
   "start_time": "2025-02-02T14:43:03.859805",
   "version": "2.6.0"
  }
 },
 "nbformat": 4,
 "nbformat_minor": 5
}
