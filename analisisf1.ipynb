{
 "cells": [
  {
   "cell_type": "code",
   "execution_count": 1,
   "id": "8f23c384",
   "metadata": {
    "_cell_guid": "b1076dfc-b9ad-4769-8c92-a6c4dae69d19",
    "_uuid": "8f2839f25d086af736a60e9eeb907d3b93b6e0e5",
    "execution": {
     "iopub.execute_input": "2025-02-02T15:31:16.862199Z",
     "iopub.status.busy": "2025-02-02T15:31:16.861820Z",
     "iopub.status.idle": "2025-02-02T15:31:17.838090Z",
     "shell.execute_reply": "2025-02-02T15:31:17.837127Z"
    },
    "papermill": {
     "duration": 0.988442,
     "end_time": "2025-02-02T15:31:17.840332",
     "exception": false,
     "start_time": "2025-02-02T15:31:16.851890",
     "status": "completed"
    },
    "tags": []
   },
   "outputs": [],
   "source": [
    "#imports\n",
    "import pandas as pd"
   ]
  },
  {
   "cell_type": "code",
   "execution_count": 2,
   "id": "e8e5ab44",
   "metadata": {
    "execution": {
     "iopub.execute_input": "2025-02-02T15:31:17.855639Z",
     "iopub.status.busy": "2025-02-02T15:31:17.855115Z",
     "iopub.status.idle": "2025-02-02T15:31:19.006351Z",
     "shell.execute_reply": "2025-02-02T15:31:19.005355Z"
    },
    "jupyter": {
     "source_hidden": true
    },
    "papermill": {
     "duration": 1.160701,
     "end_time": "2025-02-02T15:31:19.008200",
     "exception": false,
     "start_time": "2025-02-02T15:31:17.847499",
     "status": "completed"
    },
    "tags": []
   },
   "outputs": [],
   "source": [
    "circuits_df = pd.read_csv('../input/formula-1-world-championship-1950-2020/circuits.csv')\n",
    "\n",
    "constructor_df = pd.read_csv('../input/formula-1-world-championship-1950-2020/constructors.csv')\n",
    "constructor_results_df = pd.read_csv('../input/formula-1-world-championship-1950-2020/constructor_results.csv')\n",
    "constructor_standings_df = pd.read_csv('../input/formula-1-world-championship-1950-2020/constructor_standings.csv')\n",
    "\n",
    "drivers_df = pd.read_csv('../input/formula-1-world-championship-1950-2020/drivers.csv')\n",
    "drivers_standings_df = pd.read_csv('../input/formula-1-world-championship-1950-2020/driver_standings.csv')\n",
    "\n",
    "lap_times_df = pd.read_csv('../input/formula-1-world-championship-1950-2020/lap_times.csv')\n",
    "\n",
    "qualifying_df = pd.read_csv('../input/formula-1-world-championship-1950-2020/qualifying.csv')\n",
    "\n",
    "races_df = pd.read_csv('../input/formula-1-world-championship-1950-2020/races.csv')\n",
    "result_df = pd.read_csv('../input/formula-1-world-championship-1950-2020/results.csv')\n",
    "\n",
    "season_df = pd.read_csv('../input/formula-1-world-championship-1950-2020/seasons.csv')\n",
    "\n",
    "sprint_results_df = pd.read_csv('../input/formula-1-world-championship-1950-2020/sprint_results.csv')\n",
    "\n",
    "status_df = pd.read_csv('../input/formula-1-world-championship-1950-2020/status.csv')"
   ]
  },
  {
   "cell_type": "markdown",
   "id": "56bcad86",
   "metadata": {
    "papermill": {
     "duration": 0.006145,
     "end_time": "2025-02-02T15:31:19.021108",
     "exception": false,
     "start_time": "2025-02-02T15:31:19.014963",
     "status": "completed"
    },
    "tags": []
   },
   "source": [
    "## Lewis Hamilton Records\n",
    "(Principios 2025 antes de comenzar la temporada del 2025)\n",
    "(Early 2025 before the start of the 2025 season)\n",
    "\n",
    "### El piloto con más puntos actualmente || The driver currently with the most points"
   ]
  },
  {
   "cell_type": "code",
   "execution_count": 3,
   "id": "5c25b133",
   "metadata": {
    "execution": {
     "iopub.execute_input": "2025-02-02T15:31:19.035606Z",
     "iopub.status.busy": "2025-02-02T15:31:19.035173Z",
     "iopub.status.idle": "2025-02-02T15:31:19.089322Z",
     "shell.execute_reply": "2025-02-02T15:31:19.087711Z"
    },
    "papermill": {
     "duration": 0.06365,
     "end_time": "2025-02-02T15:31:19.091319",
     "exception": false,
     "start_time": "2025-02-02T15:31:19.027669",
     "status": "completed"
    },
    "tags": []
   },
   "outputs": [
    {
     "name": "stdout",
     "output_type": "stream",
     "text": [
      "🏁 El piloto con más puntos es Lewis Hamilton con un total de 4862.5 puntos. 🏁\n",
      "🏁 The driver with the most points is Lewis Hamilton with a total of 4862.5 points. 🏁\n"
     ]
    }
   ],
   "source": [
    "drivers_standings_df['year'] = drivers_standings_df['raceId'].map(races_df.set_index('raceId')['year'])\n",
    "\n",
    "# Tomar solo el último registro de cada temporada para cada piloto (el acumulado final de la temporada)\n",
    "# Take only the last record of each season for each driver (the final accumulated record of the season).\n",
    "last_standing_per_season = drivers_standings_df.sort_values(by=['year', 'raceId']).drop_duplicates(subset=['year', 'driverId'], keep='last')\n",
    "\n",
    "# Sumar los puntos por piloto\n",
    "# Sum up the points per driver\n",
    "total_points = last_standing_per_season.groupby('driverId')['points'].sum().reset_index()\n",
    "\n",
    "# Unir con la tabla de pilotos para obtener nombres\n",
    "# # Join with drivers table to get names\n",
    "drivers_df = drivers_df[['driverId', 'forename', 'surname']]\n",
    "total_points = total_points.merge(drivers_df, on='driverId')\n",
    "\n",
    "# Ordenar de mayor a menor\n",
    "# Sort from highest to lowest\n",
    "top_driver = total_points.sort_values(by='points', ascending=False).iloc[0]\n",
    "\n",
    "print(f\"🏁 El piloto con más puntos es {top_driver['forename']} {top_driver['surname']} con un total de {top_driver['points']} puntos. 🏁\")\n",
    "print(f\"🏁 The driver with the most points is {top_driver['forename']} {top_driver['surname']} with a total of {top_driver['points']} points. 🏁\")"
   ]
  },
  {
   "cell_type": "markdown",
   "id": "13f87f92",
   "metadata": {
    "papermill": {
     "duration": 0.006346,
     "end_time": "2025-02-02T15:31:19.104509",
     "exception": false,
     "start_time": "2025-02-02T15:31:19.098163",
     "status": "completed"
    },
    "tags": []
   },
   "source": [
    "### El piloto con más carreras ganadas || The driver with the most race wins"
   ]
  },
  {
   "cell_type": "code",
   "execution_count": 4,
   "id": "fcc2fd65",
   "metadata": {
    "execution": {
     "iopub.execute_input": "2025-02-02T15:31:19.119196Z",
     "iopub.status.busy": "2025-02-02T15:31:19.118777Z",
     "iopub.status.idle": "2025-02-02T15:31:19.136287Z",
     "shell.execute_reply": "2025-02-02T15:31:19.134955Z"
    },
    "papermill": {
     "duration": 0.026927,
     "end_time": "2025-02-02T15:31:19.138128",
     "exception": false,
     "start_time": "2025-02-02T15:31:19.111201",
     "status": "completed"
    },
    "tags": []
   },
   "outputs": [
    {
     "name": "stdout",
     "output_type": "stream",
     "text": [
      "🚀 El piloto con más victorias es Lewis Hamilton con 105 carreras ganadas. 🚀\n",
      "🚀 The driver with the most wins is Lewis Hamilton with 105 races won. 🚀\n"
     ]
    }
   ],
   "source": [
    "# Filtrar solo las victorias\n",
    "# # Filter only wins\n",
    "wins_df = result_df[result_df['positionOrder'] == 1]\n",
    "\n",
    "# Contar las victorias por piloto\n",
    "# Count wins per driver\n",
    "wins_count = wins_df['driverId'].value_counts().reset_index()\n",
    "wins_count.columns = ['driverId', 'wins']\n",
    "\n",
    "# Unir con la tabla de pilotos para obtener nombres\n",
    "# Join with drivers table to get names.\n",
    "drivers_df = drivers_df[['driverId', 'forename', 'surname']]\n",
    "wins_count = wins_count.merge(drivers_df, on='driverId')\n",
    "\n",
    "# Ordenar por número de victorias\n",
    "# Sort by number of wins\n",
    "top_winner = wins_count.sort_values(by='wins', ascending=False).iloc[0]\n",
    "\n",
    "print(f\"🚀 El piloto con más victorias es {top_winner['forename']} {top_winner['surname']} con {top_winner['wins']} carreras ganadas. 🚀\")\n",
    "print(f\"🚀 The driver with the most wins is {top_winner['forename']} {top_winner['surname']} with {top_winner['wins']} races won. 🚀\")"
   ]
  },
  {
   "cell_type": "markdown",
   "id": "6549fa75",
   "metadata": {
    "papermill": {
     "duration": 0.006481,
     "end_time": "2025-02-02T15:31:19.151691",
     "exception": false,
     "start_time": "2025-02-02T15:31:19.145210",
     "status": "completed"
    },
    "tags": []
   },
   "source": [
    "### El piloto con más podios || The driver with the most podiums"
   ]
  },
  {
   "cell_type": "code",
   "execution_count": 5,
   "id": "38aed3f0",
   "metadata": {
    "execution": {
     "iopub.execute_input": "2025-02-02T15:31:19.166841Z",
     "iopub.status.busy": "2025-02-02T15:31:19.166423Z",
     "iopub.status.idle": "2025-02-02T15:31:19.180464Z",
     "shell.execute_reply": "2025-02-02T15:31:19.179381Z"
    },
    "papermill": {
     "duration": 0.023749,
     "end_time": "2025-02-02T15:31:19.182419",
     "exception": false,
     "start_time": "2025-02-02T15:31:19.158670",
     "status": "completed"
    },
    "tags": []
   },
   "outputs": [
    {
     "name": "stdout",
     "output_type": "stream",
     "text": [
      "🔥 El piloto con más podios es Lewis Hamilton con 202 podios.🔥\n",
      "🔥 The driver with the most podiums is Lewis Hamilton with 202 podiums.🔥\n"
     ]
    }
   ],
   "source": [
    "# Filtrar solo las posiciones de podio (1.º, 2.º o 3.º lugar)\n",
    "# Filter only podium positions (1st, 2nd or 3rd place)\n",
    "podiums_df = result_df[result_df['positionOrder'].isin([1, 2, 3])]\n",
    "\n",
    "# Contar la cantidad de podios por piloto\n",
    "# Count the number of podiums per driver.\n",
    "podium_count = podiums_df['driverId'].value_counts().reset_index()\n",
    "podium_count.columns = ['driverId', 'podiums']\n",
    "\n",
    "# Unir con la tabla de pilotos para obtener nombres\n",
    "# Join with drivers table to get names.\n",
    "drivers_df = drivers_df[['driverId', 'forename', 'surname']]\n",
    "podium_count = podium_count.merge(drivers_df, on='driverId')\n",
    "\n",
    "# Ordenar por número de podios\n",
    "# Sort by number of podiums\n",
    "top_podium_driver = podium_count.sort_values(by='podiums', ascending=False).iloc[0]\n",
    "\n",
    "print(f\"🔥 El piloto con más podios es {top_podium_driver['forename']} {top_podium_driver['surname']} con {top_podium_driver['podiums']} podios.🔥\")\n",
    "print(f\"🔥 The driver with the most podiums is {top_podium_driver['forename']} {top_podium_driver['surname']} with {top_podium_driver['podiums']} podiums.🔥\")\n"
   ]
  },
  {
   "cell_type": "markdown",
   "id": "2c021a31",
   "metadata": {
    "papermill": {
     "duration": 0.006436,
     "end_time": "2025-02-02T15:31:19.195681",
     "exception": false,
     "start_time": "2025-02-02T15:31:19.189245",
     "status": "completed"
    },
    "tags": []
   },
   "source": [
    "### El piloto con más pole positions || The driver with the most pole positions\n",
    "Pole positions = Salir primero en una carrera || Starting first in a race"
   ]
  },
  {
   "cell_type": "code",
   "execution_count": 6,
   "id": "aff5d2e3",
   "metadata": {
    "execution": {
     "iopub.execute_input": "2025-02-02T15:31:19.210524Z",
     "iopub.status.busy": "2025-02-02T15:31:19.210088Z",
     "iopub.status.idle": "2025-02-02T15:31:19.222905Z",
     "shell.execute_reply": "2025-02-02T15:31:19.221656Z"
    },
    "papermill": {
     "duration": 0.022383,
     "end_time": "2025-02-02T15:31:19.224789",
     "exception": false,
     "start_time": "2025-02-02T15:31:19.202406",
     "status": "completed"
    },
    "tags": []
   },
   "outputs": [
    {
     "name": "stdout",
     "output_type": "stream",
     "text": [
      "🏆 El piloto con más pole positions es Lewis Hamilton con 107 pole positions. 🏆\n",
      "🏆 The driver with the most pole positions is Lewis Hamilton with 107 pole positions. 🏆\n"
     ]
    }
   ],
   "source": [
    "pole_positions_df = qualifying_df[qualifying_df['position'] == 1]\n",
    "\n",
    "# Contar cuántas pole positions tiene cada piloto\n",
    "# Count how many pole positions each driver has\n",
    "pole_count = pole_positions_df['driverId'].value_counts().reset_index()\n",
    "pole_count.columns = ['driverId', 'pole_positions']\n",
    "\n",
    "# Unir con la tabla de pilotos para obtener nombres\n",
    "# Join with drivers table to get names.\n",
    "drivers_df = drivers_df[['driverId', 'forename', 'surname']]\n",
    "pole_count = pole_count.merge(drivers_df, on='driverId')\n",
    "\n",
    "# Ordenar por número de poles\n",
    "# Sort by number of poles\n",
    "top_pole_driver = pole_count.sort_values(by='pole_positions', ascending=False).iloc[0]\n",
    "\n",
    "print(f\"🏆 El piloto con más pole positions es {top_pole_driver['forename']} {top_pole_driver['surname']} con {top_pole_driver['pole_positions']} pole positions. 🏆\")\n",
    "print(f\"🏆 The driver with the most pole positions is {top_pole_driver['forename']} {top_pole_driver['surname']} with {top_pole_driver['pole_positions']} pole positions. 🏆\")"
   ]
  },
  {
   "cell_type": "markdown",
   "id": "6e1571ea",
   "metadata": {
    "papermill": {
     "duration": 0.006263,
     "end_time": "2025-02-02T15:31:19.238074",
     "exception": false,
     "start_time": "2025-02-02T15:31:19.231811",
     "status": "completed"
    },
    "tags": []
   },
   "source": [
    "### El piloto con más carreras lideradas || The driver with the most races led\n",
    "(al menos una vuelta liderada en carrera || at least one lap led in a race)"
   ]
  },
  {
   "cell_type": "code",
   "execution_count": 7,
   "id": "7d34f708",
   "metadata": {
    "execution": {
     "iopub.execute_input": "2025-02-02T15:31:19.252837Z",
     "iopub.status.busy": "2025-02-02T15:31:19.252493Z",
     "iopub.status.idle": "2025-02-02T15:31:19.269579Z",
     "shell.execute_reply": "2025-02-02T15:31:19.268309Z"
    },
    "papermill": {
     "duration": 0.026767,
     "end_time": "2025-02-02T15:31:19.271493",
     "exception": false,
     "start_time": "2025-02-02T15:31:19.244726",
     "status": "completed"
    },
    "tags": []
   },
   "outputs": [
    {
     "name": "stdout",
     "output_type": "stream",
     "text": [
      "🔝 El piloto con más carreras lideradas es Lewis Hamilton con 190 carreras lideradas. 🔝\n",
      "🔝 The driver with the most races led is Lewis Hamilton with 190 races led. 🔝\n"
     ]
    }
   ],
   "source": [
    "# Filtrar vueltas donde un piloto estuvo en P1\n",
    "# Filter laps where a driver was in P1\n",
    "laps_led = lap_times_df[lap_times_df['position'] == 1]\n",
    "\n",
    "# Contar en cuántas carreras diferentes lideró cada piloto (cada raceId único cuenta una vez)\n",
    "# Count how many different races each driver led (each unique raceId counts once)\n",
    "races_led_count = laps_led.groupby('driverId')['raceId'].nunique().reset_index()\n",
    "races_led_count.columns = ['driverId', 'races_led']\n",
    "\n",
    "# Unir con la tabla de pilotos para obtener nombres\n",
    "# Join with drivers table to get names.\n",
    "races_led_count = races_led_count.merge(drivers_df[['driverId', 'forename', 'surname']], on='driverId')\n",
    "\n",
    "# Ordenar de mayor a menor\n",
    "# Sort from highest to lowest\n",
    "races_led_count = races_led_count.sort_values(by='races_led', ascending=False)\n",
    "\n",
    "top_driver = races_led_count.iloc[0]\n",
    "print(f\"🔝 El piloto con más carreras lideradas es {top_driver['forename']} {top_driver['surname']} con {top_driver['races_led']} carreras lideradas. 🔝\")\n",
    "print(f\"🔝 The driver with the most races led is {top_driver['forename']} {top_driver['surname']} with {top_driver['races_led']} races led. 🔝\")"
   ]
  },
  {
   "cell_type": "markdown",
   "id": "d7055cae",
   "metadata": {
    "papermill": {
     "duration": 0.006473,
     "end_time": "2025-02-02T15:31:19.284920",
     "exception": false,
     "start_time": "2025-02-02T15:31:19.278447",
     "status": "completed"
    },
    "tags": []
   },
   "source": [
    "### El piloto con más vueltas lideradas || The driver with the most laps led\n",
    "Total de vueltas en P1 || Total laps in P1"
   ]
  },
  {
   "cell_type": "code",
   "execution_count": 8,
   "id": "81780114",
   "metadata": {
    "execution": {
     "iopub.execute_input": "2025-02-02T15:31:19.300412Z",
     "iopub.status.busy": "2025-02-02T15:31:19.299993Z",
     "iopub.status.idle": "2025-02-02T15:31:19.312802Z",
     "shell.execute_reply": "2025-02-02T15:31:19.311608Z"
    },
    "papermill": {
     "duration": 0.022579,
     "end_time": "2025-02-02T15:31:19.314743",
     "exception": false,
     "start_time": "2025-02-02T15:31:19.292164",
     "status": "completed"
    },
    "tags": []
   },
   "outputs": [
    {
     "name": "stdout",
     "output_type": "stream",
     "text": [
      "🎯 El piloto con más vueltas lideradas es Lewis Hamilton con 5487 vueltas lideradas. 🎯\n",
      "🎯 The driver with the most laps led is Lewis Hamilton with 5487 laps led. 🎯\n"
     ]
    }
   ],
   "source": [
    "# Contar cuántas vueltas lideró cada piloto\n",
    "# Count how many laps each driver led.\n",
    "laps_led_count = laps_led['driverId'].value_counts().reset_index()\n",
    "laps_led_count.columns = ['driverId', 'laps_led']\n",
    "\n",
    "# Unir con la tabla de pilotos\n",
    "# Join with driver table\n",
    "laps_led_count = laps_led_count.merge(drivers_df[['driverId', 'forename', 'surname']], on='driverId')\n",
    "\n",
    "# Ordenar de mayor a menor\n",
    "# Sort from highest to lowest\n",
    "laps_led_count = laps_led_count.sort_values(by='laps_led', ascending=False)\n",
    "\n",
    "top_driver = laps_led_count.iloc[0]\n",
    "print(f\"🎯 El piloto con más vueltas lideradas es {top_driver['forename']} {top_driver['surname']} con {top_driver['laps_led']} vueltas lideradas. 🎯\")\n",
    "print(f\"🎯 The driver with the most laps led is {top_driver['forename']} {top_driver['surname']} with {top_driver['laps_led']} laps led. 🎯\")"
   ]
  },
  {
   "cell_type": "markdown",
   "id": "55c6750a",
   "metadata": {
    "papermill": {
     "duration": 0.006726,
     "end_time": "2025-02-02T15:31:19.328398",
     "exception": false,
     "start_time": "2025-02-02T15:31:19.321672",
     "status": "completed"
    },
    "tags": []
   },
   "source": [
    "### El piloto con más campeonatos mundiales || The driver with the most world championships"
   ]
  },
  {
   "cell_type": "code",
   "execution_count": 9,
   "id": "21facf29",
   "metadata": {
    "execution": {
     "iopub.execute_input": "2025-02-02T15:31:19.343321Z",
     "iopub.status.busy": "2025-02-02T15:31:19.342900Z",
     "iopub.status.idle": "2025-02-02T15:31:19.362639Z",
     "shell.execute_reply": "2025-02-02T15:31:19.361488Z"
    },
    "papermill": {
     "duration": 0.029722,
     "end_time": "2025-02-02T15:31:19.364783",
     "exception": false,
     "start_time": "2025-02-02T15:31:19.335061",
     "status": "completed"
    },
    "tags": []
   },
   "outputs": [
    {
     "name": "stdout",
     "output_type": "stream",
     "text": [
      "🏁 Lewis Hamilton tiene 7 títulos. 🏁\n",
      "🏁 Lewis Hamilton has 7 titles. 🏁\n",
      "🏁 Michael Schumacher tiene 7 títulos. 🏁\n",
      "🏁 Michael Schumacher has 7 titles. 🏁\n"
     ]
    }
   ],
   "source": [
    "# Obtener la última carrera de cada temporada\n",
    "# Get the last race of each season\n",
    "last_race_per_season = races_df.groupby('year')['raceId'].max().reset_index()\n",
    "\n",
    "# Filtrar la tabla de standings para obtener SOLO los campeones de cada temporada\n",
    "# Filter the standings table to get ONLY the champions of each season\n",
    "champions = drivers_standings_df[\n",
    "    (drivers_standings_df['position'] == 1) & \n",
    "    (drivers_standings_df['raceId'].isin(last_race_per_season['raceId']))\n",
    "]\n",
    "\n",
    "# Contar cuántos títulos tiene cada piloto\n",
    "# Count how many titles each driver has\n",
    "championships_count = champions['driverId'].value_counts().reset_index()\n",
    "championships_count.columns = ['driverId', 'titles']\n",
    "\n",
    "# Unir con la tabla de pilotos para obtener nombres\n",
    "# Join with drivers table to get names\n",
    "championships_count = championships_count.merge(drivers_df[['driverId', 'forename', 'surname']], on='driverId')\n",
    "\n",
    "# Ordenar de mayor a menor\n",
    "# Sort from highest to lowest\n",
    "championships_count = championships_count.sort_values(by='titles', ascending=False)\n",
    "\n",
    "# Obtener el máximo número de títulos\n",
    "# Get maximum number of titles\n",
    "max_titles = championships_count['titles'].max()\n",
    "\n",
    "# Filtrar todos los pilotos que tengan ese número de títulos\n",
    "# Filter out all drivers with that number of titles\n",
    "top_drivers = championships_count[championships_count['titles'] == max_titles]\n",
    "\n",
    "for _, row in top_drivers.iterrows():\n",
    "    print(f\"🏁 {row['forename']} {row['surname']} tiene {row['titles']} títulos. 🏁\")\n",
    "    print(f\"🏁 {row['forename']} {row['surname']} has {row['titles']} titles. 🏁\")\n"
   ]
  },
  {
   "cell_type": "markdown",
   "id": "f2202b18",
   "metadata": {
    "papermill": {
     "duration": 0.006556,
     "end_time": "2025-02-02T15:31:19.378445",
     "exception": false,
     "start_time": "2025-02-02T15:31:19.371889",
     "status": "completed"
    },
    "tags": []
   },
   "source": [
    "### El piloto con mas victorias en diferentes temporadas || The driver with the most victories in different seasons"
   ]
  },
  {
   "cell_type": "code",
   "execution_count": 10,
   "id": "c4358e2f",
   "metadata": {
    "execution": {
     "iopub.execute_input": "2025-02-02T15:31:19.394444Z",
     "iopub.status.busy": "2025-02-02T15:31:19.393874Z",
     "iopub.status.idle": "2025-02-02T15:31:19.413489Z",
     "shell.execute_reply": "2025-02-02T15:31:19.412158Z"
    },
    "papermill": {
     "duration": 0.029721,
     "end_time": "2025-02-02T15:31:19.415387",
     "exception": false,
     "start_time": "2025-02-02T15:31:19.385666",
     "status": "completed"
    },
    "tags": []
   },
   "outputs": [
    {
     "name": "stdout",
     "output_type": "stream",
     "text": [
      "🪄 Lewis Hamilton ha ganado en 16 temporadas diferentes. 🪄\n",
      "🪄 Lewis Hamilton has won in 16 different seasons. 🪄\n"
     ]
    }
   ],
   "source": [
    "# Filtrar las carreras ganadas (positionOrder == 1 indica el ganador de la carrera)\n",
    "# Filter the races won (positionOrder == 1 indicates the winner of the race)\n",
    "winners = result_df[result_df['positionOrder'] == 1]\n",
    "\n",
    "# Unir con la tabla de carreras para obtener el año de cada carrera ganada\n",
    "# Merge with the table of races to get the year of each won race\n",
    "winners = winners.merge(races_df[['raceId', 'year']], on='raceId')\n",
    "\n",
    "# Contar en cuántas temporadas diferentes ganó al menos una carrera cada piloto\n",
    "# Count how many different seasons each driver won at least one race in\n",
    "seasons_won = winners.groupby('driverId')['year'].nunique().reset_index()\n",
    "seasons_won.columns = ['driverId', 'seasons_won']\n",
    "\n",
    "# Unir con la tabla de pilotos para obtener nombres\n",
    "# Join with driver table to get names.\n",
    "seasons_won = seasons_won.merge(drivers_df[['driverId', 'forename', 'surname']], on='driverId')\n",
    "\n",
    "# Ordenar de mayor a menor\n",
    "# Sort from highest to lowest\n",
    "seasons_won = seasons_won.sort_values(by='seasons_won', ascending=False)\n",
    "\n",
    "# Obtener el número máximo de temporadas ganadas\n",
    "# Get the maximum number of seasons won\n",
    "max_seasons = seasons_won['seasons_won'].max()\n",
    "\n",
    "# Filtrar todos los pilotos que tengan ese número de temporadas ganadas\n",
    "# Filter out all drivers with that number of seasons won\n",
    "top_drivers = seasons_won[seasons_won['seasons_won'] == max_seasons]\n",
    "\n",
    "for _, row in top_drivers.iterrows():\n",
    "    print(f\"🪄 {row['forename']} {row['surname']} ha ganado en {row['seasons_won']} temporadas diferentes. 🪄\")\n",
    "    print(f\"🪄 {row['forename']} {row['surname']} has won in {row['seasons_won']} different seasons. 🪄\")\n"
   ]
  },
  {
   "cell_type": "markdown",
   "id": "813eed9c",
   "metadata": {
    "papermill": {
     "duration": 0.006506,
     "end_time": "2025-02-02T15:31:19.429039",
     "exception": false,
     "start_time": "2025-02-02T15:31:19.422533",
     "status": "completed"
    },
    "tags": []
   },
   "source": [
    "### El piloto con más victorias en x circuito || The driver with the most wins on x circuit "
   ]
  },
  {
   "cell_type": "code",
   "execution_count": 11,
   "id": "c5cc0e3c",
   "metadata": {
    "execution": {
     "iopub.execute_input": "2025-02-02T15:31:19.444446Z",
     "iopub.status.busy": "2025-02-02T15:31:19.444005Z",
     "iopub.status.idle": "2025-02-02T15:31:19.465155Z",
     "shell.execute_reply": "2025-02-02T15:31:19.464027Z"
    },
    "papermill": {
     "duration": 0.030916,
     "end_time": "2025-02-02T15:31:19.466971",
     "exception": false,
     "start_time": "2025-02-02T15:31:19.436055",
     "status": "completed"
    },
    "tags": []
   },
   "outputs": [
    {
     "name": "stdout",
     "output_type": "stream",
     "text": [
      "🥇 Lewis Hamilton ha ganado 9 veces en Silverstone Circuit. 🥇\n",
      "🥇 Lewis Hamilton has won 9 times in Silverstone Circuit. 🥇\n"
     ]
    }
   ],
   "source": [
    "# Filtrar las carreras ganadas (positionOrder == 1 indica el ganador de la carrera)\n",
    "# Filter the races won (positionOrder == 1 indicates the winner of the race)\n",
    "winners = result_df[result_df['positionOrder'] == 1]\n",
    "\n",
    "# Unir con la tabla de carreras para obtener el circuito de cada carrera ganada\n",
    "# Merge with the table of races to get the track of each won race\n",
    "winners = winners.merge(races_df[['raceId', 'circuitId']], on='raceId')\n",
    "\n",
    "# Contar cuántas veces cada piloto ha ganado en cada circuito\n",
    "# Count how many times each driver has won at each circuit\n",
    "circuit_wins = winners.groupby(['driverId', 'circuitId']).size().reset_index(name='wins')\n",
    "\n",
    "# Encontrar el máximo número de victorias en un solo circuito\n",
    "# Find the maximum number of wins in a single circuit\n",
    "max_wins = circuit_wins['wins'].max()\n",
    "\n",
    "# Filtrar todos los pilotos que tengan ese número de victorias en algún circuito\n",
    "# Filter out all drivers who have that number of wins on any circuit\n",
    "top_circuit_winners = circuit_wins[circuit_wins['wins'] == max_wins]\n",
    "\n",
    "# Unir con la tabla de pilotos para obtener nombres\n",
    "# Join with drivers table to get names\n",
    "top_circuit_winners = top_circuit_winners.merge(drivers_df[['driverId', 'forename', 'surname']], on='driverId')\n",
    "\n",
    "# Unir con la tabla de circuitos para obtener el nombre del circuito\n",
    "# Merge with the circuit table to get the name of the circuit\n",
    "top_circuit_winners = top_circuit_winners.merge(circuits_df[['circuitId', 'name']], on='circuitId')\n",
    "\n",
    "for _, row in top_circuit_winners.iterrows():\n",
    "    print(f\"🥇 {row['forename']} {row['surname']} ha ganado {row['wins']} veces en {row['name']}. 🥇\")\n",
    "    print(f\"🥇 {row['forename']} {row['surname']} has won {row['wins']} times in {row['name']}. 🥇\")\n"
   ]
  },
  {
   "cell_type": "markdown",
   "id": "f0b2e322",
   "metadata": {
    "papermill": {
     "duration": 0.006799,
     "end_time": "2025-02-02T15:31:19.480940",
     "exception": false,
     "start_time": "2025-02-02T15:31:19.474141",
     "status": "completed"
    },
    "tags": []
   },
   "source": [
    "### El piloto con más victorias como rookie || The driver with the most wins as a rookie"
   ]
  },
  {
   "cell_type": "code",
   "execution_count": 12,
   "id": "8239ed18",
   "metadata": {
    "execution": {
     "iopub.execute_input": "2025-02-02T15:31:19.496419Z",
     "iopub.status.busy": "2025-02-02T15:31:19.495955Z",
     "iopub.status.idle": "2025-02-02T15:31:19.526606Z",
     "shell.execute_reply": "2025-02-02T15:31:19.525359Z"
    },
    "papermill": {
     "duration": 0.040566,
     "end_time": "2025-02-02T15:31:19.528509",
     "exception": false,
     "start_time": "2025-02-02T15:31:19.487943",
     "status": "completed"
    },
    "tags": []
   },
   "outputs": [
    {
     "name": "stdout",
     "output_type": "stream",
     "text": [
      "🎖️ Lewis Hamilton ganó 4 carreras en su temporada de debut (1). 🎖️\n",
      "🎖️ Lewis Hamilton won 4 races in its debut season (1). 🎖️\n",
      "🎖️ Jacques Villeneuve ganó 4 carreras en su temporada de debut (35). 🎖️\n",
      "🎖️ Jacques Villeneuve won 4 races in its debut season (35). 🎖️\n"
     ]
    }
   ],
   "source": [
    "# Obtener la primera temporada de cada piloto (año de su primera carrera)\n",
    "# Get the first season of each driver (year of his first race)\n",
    "first_season = races_df[['raceId', 'year']].merge(result_df[['raceId', 'driverId']], on='raceId')\n",
    "first_season = first_season.groupby('driverId')['year'].min().reset_index()\n",
    "first_season.columns = ['driverId', 'rookie_year']\n",
    "\n",
    "# Filtrar las victorias (positionOrder == 1) y unir con la temporada de debut\n",
    "# Filter wins (positionOrder == 1) and join with debut season.\n",
    "rookie_wins = result_df[result_df['positionOrder'] == 1].merge(races_df[['raceId', 'year']], on='raceId')\n",
    "rookie_wins = rookie_wins.merge(first_season, on='driverId')\n",
    "\n",
    "# Filtrar solo las victorias en la temporada de debut\n",
    "# Filter out only the wins in the debut season\n",
    "rookie_wins = rookie_wins[rookie_wins['year'] == rookie_wins['rookie_year']]\n",
    "\n",
    "# Contar las victorias de cada piloto en su año de debut\n",
    "# Count the wins of each driver in his debut year.\n",
    "rookie_win_count = rookie_wins['driverId'].value_counts().reset_index()\n",
    "rookie_win_count.columns = ['driverId', 'rookie_wins']\n",
    "\n",
    "# Unir con la tabla de pilotos para obtener nombres\n",
    "# Join with driver table to get names.\n",
    "rookie_win_count = rookie_win_count.merge(drivers_df[['driverId', 'forename', 'surname']], on='driverId')\n",
    "\n",
    "# Ordenar de mayor a menor\n",
    "# Sort from highest to lowest\n",
    "rookie_win_count = rookie_win_count.sort_values(by='rookie_wins', ascending=False)\n",
    "\n",
    "# Obtener el número máximo de victorias de un rookie\n",
    "# Get the maximum number of wins of a rookie\n",
    "max_rookie_wins = rookie_win_count['rookie_wins'].max()\n",
    "\n",
    "# Filtrar todos los pilotos que lograron esa cantidad de victorias\n",
    "# Filter out all drivers who achieved that number of wins\n",
    "top_rookies = rookie_win_count[rookie_win_count['rookie_wins'] == max_rookie_wins]\n",
    "\n",
    "for _, row in top_rookies.iterrows():\n",
    "    print(f\"🎖️ {row['forename']} {row['surname']} ganó {row['rookie_wins']} carreras en su temporada de debut ({row['driverId']}). 🎖️\")\n",
    "    print(f\"🎖️ {row['forename']} {row['surname']} won {row['rookie_wins']} races in its debut season ({row['driverId']}). 🎖️\")\n"
   ]
  },
  {
   "cell_type": "markdown",
   "id": "8f462207",
   "metadata": {
    "papermill": {
     "duration": 0.006868,
     "end_time": "2025-02-02T15:31:19.542705",
     "exception": false,
     "start_time": "2025-02-02T15:31:19.535837",
     "status": "completed"
    },
    "tags": []
   },
   "source": [
    "### El piloto con más pole position como rookie || The driver with the most pole positions as a rookie"
   ]
  },
  {
   "cell_type": "code",
   "execution_count": 13,
   "id": "7f0cc026",
   "metadata": {
    "execution": {
     "iopub.execute_input": "2025-02-02T15:31:19.558507Z",
     "iopub.status.busy": "2025-02-02T15:31:19.558087Z",
     "iopub.status.idle": "2025-02-02T15:31:19.584612Z",
     "shell.execute_reply": "2025-02-02T15:31:19.583484Z"
    },
    "papermill": {
     "duration": 0.036817,
     "end_time": "2025-02-02T15:31:19.586655",
     "exception": false,
     "start_time": "2025-02-02T15:31:19.549838",
     "status": "completed"
    },
    "tags": []
   },
   "outputs": [
    {
     "name": "stdout",
     "output_type": "stream",
     "text": [
      "🚀 Lewis Hamilton logró 5 pole positions en su temporada de debut. 🚀\n",
      "🚀 Lewis Hamilton achieved 5 pole positions in his debut season. 🚀\n"
     ]
    }
   ],
   "source": [
    "# Obtener la primera temporada de cada piloto (año de su primera carrera)\n",
    "# Get the first season of each driver (year of his first race)\n",
    "first_season = races_df[['raceId', 'year']].merge(result_df[['raceId', 'driverId']], on='raceId')\n",
    "first_season = first_season.groupby('driverId')['year'].min().reset_index()\n",
    "first_season.columns = ['driverId', 'rookie_year']\n",
    "\n",
    "# Filtrar las poles (posición 1 en clasificación)\n",
    "# Filter poles (position 1 in qualifying)\n",
    "rookie_poles = qualifying_df[qualifying_df['position'] == 1]\n",
    "\n",
    "# Unir con la tabla de carreras para obtener el año de la pole\n",
    "# Join with the race table to get the pole year\n",
    "rookie_poles = rookie_poles.merge(races_df[['raceId', 'year']], on='raceId')\n",
    "\n",
    "# Unir con la primera temporada de cada piloto\n",
    "# Merge with each driver's first season\n",
    "rookie_poles = rookie_poles.merge(first_season, on='driverId')\n",
    "\n",
    "# Filtrar solo las poles en la temporada de debut\n",
    "# Filter only the poles in the debut season\n",
    "rookie_poles = rookie_poles[rookie_poles['year'] == rookie_poles['rookie_year']]\n",
    "\n",
    "# Contar las poles de cada piloto en su año de debut\n",
    "# Count the poles of each driver in his debut year\n",
    "rookie_pole_count = rookie_poles['driverId'].value_counts().reset_index()\n",
    "rookie_pole_count.columns = ['driverId', 'rookie_poles']\n",
    "\n",
    "# Unir con la tabla de pilotos para obtener nombres\n",
    "# Join with driver table to get names\n",
    "rookie_pole_count = rookie_pole_count.merge(drivers_df[['driverId', 'forename', 'surname']], on='driverId')\n",
    "\n",
    "# Ordenar de mayor a menor\n",
    "# Sort from highest to lowest\n",
    "rookie_pole_count = rookie_pole_count.sort_values(by='rookie_poles', ascending=False)\n",
    "\n",
    "# Obtener el número máximo de poles de un rookie\n",
    "# Get the maximum number of poles of a rookie\n",
    "max_rookie_poles = rookie_pole_count['rookie_poles'].max()\n",
    "\n",
    "# Filtrar todos los pilotos que lograron esa cantidad de poles\n",
    "# Filter all drivers who achieved that number of poles\n",
    "top_rookies = rookie_pole_count[rookie_pole_count['rookie_poles'] == max_rookie_poles]\n",
    "\n",
    "# Mostrar los rookies con más pole positions\n",
    "for _, row in top_rookies.iterrows():\n",
    "    print(f\"🚀 {row['forename']} {row['surname']} logró {row['rookie_poles']} pole positions en su temporada de debut. 🚀\")\n",
    "    print(f\"🚀 {row['forename']} {row['surname']} achieved {row['rookie_poles']} pole positions in his debut season. 🚀\")\n"
   ]
  },
  {
   "cell_type": "markdown",
   "id": "b6ede04f",
   "metadata": {
    "papermill": {
     "duration": 0.007552,
     "end_time": "2025-02-02T15:31:19.601600",
     "exception": false,
     "start_time": "2025-02-02T15:31:19.594048",
     "status": "completed"
    },
    "tags": []
   },
   "source": [
    "### El piloto con más premios con un mismo constructor || The driver with the most awards with the same constructor"
   ]
  },
  {
   "cell_type": "code",
   "execution_count": 14,
   "id": "c57247a7",
   "metadata": {
    "execution": {
     "iopub.execute_input": "2025-02-02T15:31:19.618637Z",
     "iopub.status.busy": "2025-02-02T15:31:19.618195Z",
     "iopub.status.idle": "2025-02-02T15:31:19.639412Z",
     "shell.execute_reply": "2025-02-02T15:31:19.637732Z"
    },
    "papermill": {
     "duration": 0.031662,
     "end_time": "2025-02-02T15:31:19.641302",
     "exception": false,
     "start_time": "2025-02-02T15:31:19.609640",
     "status": "completed"
    },
    "tags": []
   },
   "outputs": [
    {
     "name": "stdout",
     "output_type": "stream",
     "text": [
      "🏎️ Más Grandes Premios con un mismo constructor: Lewis Hamilton con 246 carreras en Mercedes. 🏎️\n",
      "🏎️ More Grand Prix with same constructor: Lewis Hamilton with 246 races in Mercedes. 🏎️\n"
     ]
    }
   ],
   "source": [
    "# Crear una nueva columna con el nombre completo del piloto\n",
    "# Create a new column with the driver's full name\n",
    "drivers_df['fullName'] = drivers_df['forename'] + ' ' + drivers_df['surname']\n",
    "\n",
    "# Agrupar por piloto y constructor en result_df y contar las carreras\n",
    "# Group by driver and constructor in result_df and count races.\n",
    "driver_constructor_grands_prix = result_df.groupby(['driverId', 'constructorId'])['raceId'].nunique().reset_index()\n",
    "\n",
    "# Unir con la tabla de drivers para obtener el nombre completo del piloto\n",
    "# Join with the driver table to get the full driver name\n",
    "driver_constructor_grands_prix = driver_constructor_grands_prix.merge(drivers_df[['driverId', 'fullName']], on='driverId', how='left')\n",
    "\n",
    "# Unir con la tabla de constructores para obtener el nombre del constructor\n",
    "# Merge with the constructor table to get the name of the constructor\n",
    "driver_constructor_grands_prix = driver_constructor_grands_prix.merge(constructor_df[['constructorId', 'name']], on='constructorId', how='left')\n",
    "\n",
    "# Encontramos el piloto con más Grandes Premios con un mismo constructor\n",
    "# We find the driver with the most Grand Prix with the same constructor\n",
    "max_grands_prix_constructor = driver_constructor_grands_prix.loc[driver_constructor_grands_prix['raceId'].idxmax()]\n",
    "\n",
    "print(f\"🏎️ Más Grandes Premios con un mismo constructor: {max_grands_prix_constructor['fullName']} con {max_grands_prix_constructor['raceId']} carreras en {max_grands_prix_constructor['name']}. 🏎️\")\n",
    "print(f\"🏎️ More Grand Prix with same constructor: {max_grands_prix_constructor['fullName']} with {max_grands_prix_constructor['raceId']} races in {max_grands_prix_constructor['name']}. 🏎️\")"
   ]
  },
  {
   "cell_type": "markdown",
   "id": "3d8fd1dc",
   "metadata": {
    "papermill": {
     "duration": 0.007155,
     "end_time": "2025-02-02T15:31:19.656155",
     "exception": false,
     "start_time": "2025-02-02T15:31:19.649000",
     "status": "completed"
    },
    "tags": []
   },
   "source": [
    "### El piloto con más carreras consecutivas finalizadas con puntos || The driver with the most consecutive race finishes in points"
   ]
  },
  {
   "cell_type": "code",
   "execution_count": 15,
   "id": "dfa3037d",
   "metadata": {
    "execution": {
     "iopub.execute_input": "2025-02-02T15:31:19.672191Z",
     "iopub.status.busy": "2025-02-02T15:31:19.671815Z",
     "iopub.status.idle": "2025-02-02T15:31:19.696143Z",
     "shell.execute_reply": "2025-02-02T15:31:19.694793Z"
    },
    "papermill": {
     "duration": 0.034684,
     "end_time": "2025-02-02T15:31:19.698179",
     "exception": false,
     "start_time": "2025-02-02T15:31:19.663495",
     "status": "completed"
    },
    "tags": []
   },
   "outputs": [
    {
     "name": "stdout",
     "output_type": "stream",
     "text": [
      "🏁 El piloto con más carreras consecutivas finalizadas con puntos es Lewis Hamilton con 48 carreras consecutivas. 🏁\n",
      "🏁 The driver with the most consecutive races finished with points is Lewis Hamilton with 48 consecutive races. 🏁\n"
     ]
    }
   ],
   "source": [
    "# Filtrar carreras donde el piloto obtuvo puntos (por ejemplo, posición 1-10)\n",
    "# Filter races where the driver scored points (e.g. position 1-10)\n",
    "result_with_points = result_df[result_df['positionOrder'] <= 10]\n",
    "\n",
    "# Ordenar por piloto y raceId para asegurar que las carreras están en orden cronológico\n",
    "# Sort by driver and raceId to ensure races are in chronological order.\n",
    "result_with_points = result_with_points.sort_values(by=['driverId', 'raceId'])\n",
    "\n",
    "# Crear una columna de \"carrera consecutiva\" para cada piloto\n",
    "# Create a “consecutive race” column for each driver\n",
    "result_with_points['consecutive'] = result_with_points.groupby('driverId')['raceId'].diff().ne(1).cumsum()\n",
    "\n",
    "# Contamos las carreras consecutivas con puntos para cada piloto\n",
    "# We count consecutive races with points for each driver\n",
    "consecutive_points = result_with_points.groupby(['driverId', 'consecutive']).size().reset_index(name='consecutive_points')\n",
    "\n",
    "# Encontrar el piloto con más carreras consecutivas con puntos\n",
    "# Find the driver with the most consecutive races with points.\n",
    "max_consecutive_points = consecutive_points.loc[consecutive_points['consecutive_points'].idxmax()]\n",
    "\n",
    "# Obtener el nombre del piloto\n",
    "# Get driver name\n",
    "driver_name = drivers_df.loc[drivers_df['driverId'] == max_consecutive_points['driverId'], 'fullName'].values[0]\n",
    "\n",
    "print(f\"🏁 El piloto con más carreras consecutivas finalizadas con puntos es {driver_name} con {max_consecutive_points['consecutive_points']} carreras consecutivas. 🏁\")\n",
    "print(f\"🏁 The driver with the most consecutive races finished with points is {driver_name} with {max_consecutive_points['consecutive_points']} consecutive races. 🏁\")"
   ]
  },
  {
   "cell_type": "markdown",
   "id": "3dee3e7a",
   "metadata": {
    "papermill": {
     "duration": 0.007037,
     "end_time": "2025-02-02T15:31:19.712766",
     "exception": false,
     "start_time": "2025-02-02T15:31:19.705729",
     "status": "completed"
    },
    "tags": []
   },
   "source": [
    "### El piloto con más victorias en diferentes circuitos || The driver with the most victories in different circuits "
   ]
  },
  {
   "cell_type": "code",
   "execution_count": 16,
   "id": "c75c55c1",
   "metadata": {
    "execution": {
     "iopub.execute_input": "2025-02-02T15:31:19.729028Z",
     "iopub.status.busy": "2025-02-02T15:31:19.728665Z",
     "iopub.status.idle": "2025-02-02T15:31:19.746640Z",
     "shell.execute_reply": "2025-02-02T15:31:19.745301Z"
    },
    "papermill": {
     "duration": 0.028203,
     "end_time": "2025-02-02T15:31:19.748542",
     "exception": false,
     "start_time": "2025-02-02T15:31:19.720339",
     "status": "completed"
    },
    "tags": []
   },
   "outputs": [
    {
     "name": "stdout",
     "output_type": "stream",
     "text": [
      "🚀 El piloto con más victorias en diferentes circuitos es Lewis Hamilton con 31 victorias. 🚀\n",
      "🚀 The driver with the most wins on different circuits is Lewis Hamilton with 31 wins. 🚀\n"
     ]
    }
   ],
   "source": [
    "# Filtrar las victorias (posición 1)\n",
    "# Filter victories (position 1)\n",
    "victories = result_df[result_df['positionOrder'] == 1]\n",
    "\n",
    "# Unir con races_df para obtener el circuito (circuitId) de cada carrera\n",
    "# Merge with races_df to get the circuit (circuitId) of each race\n",
    "victories = victories.merge(races_df[['raceId', 'circuitId']], on='raceId', how='left')\n",
    "\n",
    "# Agrupar por piloto y circuito para contar las victorias en diferentes circuitos\n",
    "# Group by driver and circuit to count the victories in different circuits\n",
    "victories_by_circuit = victories.groupby(['driverId', 'circuitId']).size().reset_index(name='victories')\n",
    "\n",
    "# Contar las victorias por piloto en circuitos diferentes (sin contar repeticiones en el mismo circuito)\n",
    "# Count victories per driver in different circuits (without counting repetitions in the same circuit)\n",
    "driver_victories_in_circuits = victories_by_circuit.groupby('driverId')['circuitId'].nunique().reset_index(name='unique_victories')\n",
    "\n",
    "# Encontrar el piloto con más victorias en circuitos diferentes\n",
    "# Find the driver with the most victories in different circuits\n",
    "max_victories = driver_victories_in_circuits.loc[driver_victories_in_circuits['unique_victories'].idxmax()]\n",
    "\n",
    "# Obtener el nombre del piloto\n",
    "# Get driver name\n",
    "driver_name = drivers_df.loc[drivers_df['driverId'] == max_victories['driverId'], 'forename'].values[0] + ' ' + drivers_df.loc[drivers_df['driverId'] == max_victories['driverId'], 'surname'].values[0]\n",
    "\n",
    "print(f\"🚀 El piloto con más victorias en diferentes circuitos es {driver_name} con {max_victories['unique_victories']} victorias. 🚀\")\n",
    "print(f\"🚀 The driver with the most wins on different circuits is {driver_name} with {max_victories['unique_victories']} wins. 🚀\")"
   ]
  },
  {
   "cell_type": "markdown",
   "id": "fbca15b2",
   "metadata": {
    "papermill": {
     "duration": 0.006989,
     "end_time": "2025-02-02T15:31:19.762952",
     "exception": false,
     "start_time": "2025-02-02T15:31:19.755963",
     "status": "completed"
    },
    "tags": []
   },
   "source": [
    "### El piloto con más podios en diferentes circuitos || The driver with the most podiums in different circuits"
   ]
  },
  {
   "cell_type": "code",
   "execution_count": 17,
   "id": "ccc5a48e",
   "metadata": {
    "execution": {
     "iopub.execute_input": "2025-02-02T15:31:19.779804Z",
     "iopub.status.busy": "2025-02-02T15:31:19.779472Z",
     "iopub.status.idle": "2025-02-02T15:31:19.798374Z",
     "shell.execute_reply": "2025-02-02T15:31:19.797335Z"
    },
    "papermill": {
     "duration": 0.029175,
     "end_time": "2025-02-02T15:31:19.800107",
     "exception": false,
     "start_time": "2025-02-02T15:31:19.770932",
     "status": "completed"
    },
    "tags": []
   },
   "outputs": [
    {
     "name": "stdout",
     "output_type": "stream",
     "text": [
      "💥 El piloto con más podios en diferentes circuitos es Lewis Hamilton con 36 podios. 💥\n",
      "💥 The driver with the most podiums in different circuits is Lewis Hamilton with 36 podiums. 💥\n"
     ]
    }
   ],
   "source": [
    "# Filtrar los resultados de los podios (posiciones 1, 2, 3)\n",
    "# Filter the results of the podiums (positions 1, 2, 3)\n",
    "podiums = result_df[result_df['positionOrder'].isin([1, 2, 3])]\n",
    "\n",
    "# Unir con races_df para obtener el circuito (circuitId) de cada carrera\n",
    "# Join with races_df to get the circuit (circuitId) of each race.\n",
    "podiums = podiums.merge(races_df[['raceId', 'circuitId']], on='raceId', how='left')\n",
    "\n",
    "# Agrupar por piloto y circuito para contar los podios en diferentes circuitos\n",
    "# Group by driver and circuit to count podiums in different circuits\n",
    "podiums_by_circuit = podiums.groupby(['driverId', 'circuitId']).size().reset_index(name='podiums')\n",
    "\n",
    "# Contar los podios por piloto en circuitos diferentes (sin contar repeticiones en el mismo circuito)\n",
    "# Count podiums per driver in different circuits (without counting repetitions in the same circuit)\n",
    "driver_podiums_in_circuits = podiums_by_circuit.groupby('driverId')['circuitId'].nunique().reset_index(name='unique_podiums')\n",
    "\n",
    "# Encontrar el piloto con más podios en circuitos diferentes\n",
    "# Find the driver with the most podiums in different circuits\n",
    "max_podiums = driver_podiums_in_circuits.loc[driver_podiums_in_circuits['unique_podiums'].idxmax()]\n",
    "\n",
    "# Obtener el nombre del piloto\n",
    "# Get driver name\n",
    "driver_name = drivers_df.loc[drivers_df['driverId'] == max_podiums['driverId'], 'forename'].values[0] + ' ' + drivers_df.loc[drivers_df['driverId'] == max_podiums['driverId'], 'surname'].values[0]\n",
    "\n",
    "print(f\"💥 El piloto con más podios en diferentes circuitos es {driver_name} con {max_podiums['unique_podiums']} podios. 💥\")\n",
    "print(f\"💥 The driver with the most podiums in different circuits is {driver_name} with {max_podiums['unique_podiums']} podiums. 💥\")"
   ]
  },
  {
   "cell_type": "markdown",
   "id": "655b3e8f",
   "metadata": {
    "papermill": {
     "duration": 0.007148,
     "end_time": "2025-02-02T15:31:19.814763",
     "exception": false,
     "start_time": "2025-02-02T15:31:19.807615",
     "status": "completed"
    },
    "tags": []
   },
   "source": [
    "## Resumen\n",
    "Hamilton es el piloto actual con más records. Tras 14 años consecutivos con Mercedes, abre una nueva era con Ferrari. ¿Podrá seguir batiendo records?\n",
    "Lewis Hamilton es el piloto con más record en el mundo de la formula 1. A día de hoy es considerado uno de los mejores pilotos. Comenzo en la formula 1 con McLaren en 2007 con 22 años. En 2013 firmo un contrato con Mercedes y estarían juntos hasta 2024 que decidio cumplir su mayor sueño. Poder correr con Ferrari.\n",
    "A lo largo de su carrera cumplió todos los records que acabamos de ver. Seguramente tenga más record, pero necesitaríamos más información.\n",
    "\n",
    "1. 🏁 El piloto con más puntos es Lewis Hamilton con un total de 4862.5 puntos. 🏁\n",
    "2. 🚀 El piloto con más victorias es Lewis Hamilton con 105 carreras ganadas. 🚀\n",
    "3. 🔥 El piloto con más podios es Lewis Hamilton con 202 podios. 🔥\n",
    "4. 🏆 El piloto con más pole positions es Lewis Hamilton con 107 pole positions. 🏆\n",
    "6. 🔝 El piloto con más carreras lideradas es Lewis Hamilton con 190 carreras lideradas. 🔝\n",
    "7. 🎯 El piloto con más vueltas lideradas es Lewis Hamilton con 5487 vueltas lideradas. 🎯\n",
    "8. 🏁 Lewis Hamilton y Michael Schumacher tienen ambos 7 títulos mundiales. ¿Será capaz Hamilton de batir el record en su nueva etapa con Ferrari? 🏁\n",
    "9. 🪄 Lewis Hamilton ha ganado en 16 temporadas diferentes. 🪄\n",
    "10. 🥇 Lewis Hamilton ha ganado 9 veces en Silverstone Circuit. 🥇\n",
    "11. 🎖️ Lewis Hamilton y Jacques Villeneuve comparten el record de ganar 4 carreras en su temporada de debut 🎖️\n",
    "12. 🚀 Lewis Hamilton logró 5 pole positions en su temporada de debut. 🚀\n",
    "13. 🏎️ Más Grandes Premios con un mismo constructor: Lewis Hamilton con 246 carreras en Mercedes. 🏎️\n",
    "14. 🏁 El piloto con más carreras consecutivas finalizadas con puntos es Lewis Hamilton con 48 carreras consecutivas. 🏁\n",
    "15. 🚀 El piloto con más victorias en diferentes circuitos es Lewis Hamilton con 31 victorias. 🚀\n",
    "16. 💥 El piloto con más podios en diferentes circuitos es Lewis Hamilton con 36 podios. 💥\n",
    "\n",
    "\n",
    "## Summary\n",
    "Hamilton is the current driver with the most records. After 14 consecutive years with Mercedes, he opens a new era with Ferrari. Can he continue to break records?\n",
    "Lewis Hamilton is the driver with the most records in the world of Formula 1. Today he is considered one of the best drivers. He started in Formula 1 with McLaren in 2007 at the age of 22. In 2013 he signed a contract with Mercedes and they would be together until 2024 when he decided to fulfill his biggest dream. To be able to race with Ferrari.\n",
    "Throughout his career he fulfilled all the records we have just seen. Surely he has more records, but we would need more information.\n",
    "\n",
    "1. 🏁 The driver with the most points is Lewis Hamilton with a total of 4862.5 points. 🏁\n",
    "2. 🚀 The driver with the most wins is Lewis Hamilton with 105 race wins. 🚀\n",
    "3. 🔥 The driver with the most podiums is Lewis Hamilton with 202 podiums. 🔥\n",
    "4. 🏆 The driver with the most pole positions is Lewis Hamilton with 107 pole positions. 🏆\n",
    "5. 🔝 The driver with the most races led is Lewis Hamilton with 190 races led. 🔝\n",
    "6. 🎯 The driver with the most laps led is Lewis Hamilton with 5487 laps led. 🎯\n",
    "7. 🏁 Lewis Hamilton and Michael Schumacher both have 7 world titles. Will Hamilton be able to break the record in his new stint with Ferrari? 🏁\n",
    "8. 🪄 Lewis Hamilton has won in 16 different seasons. 🪄\n",
    "9. 🥇 Lewis Hamilton has won 9 times at Silverstone Circuit. 🥇\n",
    "10. 🎖️ Lewis Hamilton and Jacques Villeneuve share the record of winning 4 races in their debut season 🎖️\n",
    "11. 🚀 Lewis Hamilton achieved 5 pole positions in his debut season. 🚀\n",
    "12. 🏎️ Most Grand Prix with the same constructor: Lewis Hamilton with 246 races in Mercedes. 🏎️\n",
    "13. 🏁 The driver with the most consecutive races finished with points is Lewis Hamilton with 48 consecutive races. 🏁\n",
    "14. 🚀 The driver with the most victories on different circuits is Lewis Hamilton with 31 victories. 🚀\n",
    "15. 💥 The driver with the most podium finishes at different circuits is Lewis Hamilton with 36 podium finishes. 💥"
   ]
  }
 ],
 "metadata": {
  "kaggle": {
   "accelerator": "none",
   "dataSources": [
    {
     "datasetId": 468218,
     "sourceId": 10606304,
     "sourceType": "datasetVersion"
    }
   ],
   "dockerImageVersionId": 30839,
   "isGpuEnabled": false,
   "isInternetEnabled": true,
   "language": "python",
   "sourceType": "notebook"
  },
  "kernelspec": {
   "display_name": "Python 3",
   "language": "python",
   "name": "python3"
  },
  "language_info": {
   "codemirror_mode": {
    "name": "ipython",
    "version": 3
   },
   "file_extension": ".py",
   "mimetype": "text/x-python",
   "name": "python",
   "nbconvert_exporter": "python",
   "pygments_lexer": "ipython3",
   "version": "3.10.12"
  },
  "papermill": {
   "default_parameters": {},
   "duration": 6.428593,
   "end_time": "2025-02-02T15:31:20.443529",
   "environment_variables": {},
   "exception": null,
   "input_path": "__notebook__.ipynb",
   "output_path": "__notebook__.ipynb",
   "parameters": {},
   "start_time": "2025-02-02T15:31:14.014936",
   "version": "2.6.0"
  }
 },
 "nbformat": 4,
 "nbformat_minor": 5
}
